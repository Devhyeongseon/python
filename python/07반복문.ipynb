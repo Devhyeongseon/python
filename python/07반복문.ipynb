{
 "cells": [
  {
   "cell_type": "markdown",
   "id": "434c757c",
   "metadata": {},
   "source": [
    "#### 반복문 while"
   ]
  },
  {
   "cell_type": "code",
   "execution_count": 5,
   "id": "4bae06bd",
   "metadata": {},
   "outputs": [
    {
     "name": "stdout",
     "output_type": "stream",
     "text": [
      "안녕하세요 1\n",
      "안녕하세요 2\n",
      "안녕하세요 3\n",
      "안녕하세요 4\n",
      "안녕하세요 5\n",
      "안녕하세요 6\n",
      "안녕하세요 7\n",
      "안녕하세요 8\n",
      "안녕하세요 9\n",
      "안녕하세요 10\n"
     ]
    }
   ],
   "source": [
    "# 안녕하세요 10번출력하기\n",
    "\n",
    "n = 1 # 반복문을 제어할 변수를 제어변수 라고 부릅니다.\n",
    "\n",
    "while n <= 10 :\n",
    "    \n",
    "    print('안녕하세요', n )\n",
    "    n += 1 # n = n + 1 제어변수의 증가\n"
   ]
  },
  {
   "cell_type": "code",
   "execution_count": 19,
   "id": "1c615d67",
   "metadata": {},
   "outputs": [
    {
     "name": "stdout",
     "output_type": "stream",
     "text": [
      "55\n"
     ]
    }
   ],
   "source": [
    "## 1~10까지 합계 구하기\n",
    "\n",
    "a = 1\n",
    "sum2 = 0 # 합계를 누적할 변수 - 반복문 바깥에 선언\n",
    "\n",
    "while a <= 10 :\n",
    "       \n",
    "    sum2 += a # sum2 = sum2 + a\n",
    "    # print(a) # 누적 시키면 합\n",
    "    a+=1 \n",
    "    \n",
    "print(sum2)\n",
    "    "
   ]
  },
  {
   "cell_type": "markdown",
   "id": "5a0f58ec",
   "metadata": {},
   "source": [
    "#### 실습\n",
    "\n",
    "구구단 n단 출력하기\n",
    "1. 사용자에게 구구 단수를 입력받습니다.\n",
    "2. 반복문을 이용해서 n단을의 모형을 출력\n"
   ]
  },
  {
   "cell_type": "code",
   "execution_count": 26,
   "id": "ee10515b",
   "metadata": {},
   "outputs": [
    {
     "name": "stdout",
     "output_type": "stream",
     "text": [
      "구구단 수>3\n",
      "*** 구구단 3 단 ***\n",
      "------------------------------\n",
      "3 x 1 = 3\n",
      "3 x 2 = 6\n",
      "3 x 3 = 9\n",
      "3 x 4 = 12\n",
      "3 x 5 = 15\n",
      "3 x 6 = 18\n",
      "3 x 7 = 21\n",
      "3 x 8 = 24\n",
      "3 x 9 = 27\n"
     ]
    }
   ],
   "source": [
    "dan = int(input(\"구구단 수>\"))\n",
    "\n",
    "print(f'*** 구구단 {dan} 단 ***')\n",
    "print('-' * 30)\n",
    "\n",
    "# 9번 반복문\n",
    "a = 1\n",
    "while a <= 9 :\n",
    "    \n",
    "    print(f'{dan} x {a} = {dan * a}')\n",
    "    \n",
    "    a += 1\n",
    "\n"
   ]
  },
  {
   "cell_type": "markdown",
   "id": "836c5969",
   "metadata": {},
   "source": [
    "#### 실습\n",
    "1. 50~100까지의 합계를 구해주세요."
   ]
  },
  {
   "cell_type": "code",
   "execution_count": 29,
   "id": "67a39c19",
   "metadata": {},
   "outputs": [
    {
     "data": {
      "text/plain": [
       "3825"
      ]
     },
     "execution_count": 29,
     "metadata": {},
     "output_type": "execute_result"
    }
   ],
   "source": [
    "a = 50\n",
    "sum3 = 0 # 합계구할 변수\n",
    "\n",
    "while a <= 100 :\n",
    "    \n",
    "    sum3 += a\n",
    "    \n",
    "    a += 1\n",
    "    \n",
    "sum3"
   ]
  },
  {
   "cell_type": "markdown",
   "id": "81ce6244",
   "metadata": {},
   "source": [
    "#### 반복문안에서 조건식 사용하기"
   ]
  },
  {
   "cell_type": "code",
   "execution_count": 36,
   "id": "bb76bc14",
   "metadata": {},
   "outputs": [
    {
     "name": "stdout",
     "output_type": "stream",
     "text": [
      "5 10 15 20 25 30 35 40 45 50 55 60 65 70 75 80 85 90 95 100 "
     ]
    }
   ],
   "source": [
    "# 100까지 정수 중에서 5의 배수를 출력해라\n",
    "\n",
    "a = 1\n",
    "while a <= 100 :\n",
    "    \n",
    "    # 특정 조건에 만족할 때만 실행\n",
    "    if a % 5 == 0 :\n",
    "        print(a, end=' ') # 가로출력\n",
    "        \n",
    "    a+= 1\n",
    "   "
   ]
  },
  {
   "cell_type": "code",
   "execution_count": 41,
   "id": "401d9a5b",
   "metadata": {},
   "outputs": [
    {
     "name": "stdout",
     "output_type": "stream",
     "text": [
      "15의 배수의 개수:666\n"
     ]
    }
   ],
   "source": [
    "# 1~10000 정수중에서 15의 배수의 (개수)\n",
    "\n",
    "a = 1\n",
    "\n",
    "cnt = 0 # 개수를 셀 변수\n",
    "\n",
    "# while a <= 10000 :\n",
    "#     if a % 15 == 0 :\n",
    "#         cnt += 1 # 15의 배수일 경우 1개씩 누적\n",
    "#     a += 1\n",
    "\n",
    "b = 15\n",
    "while b <= 10000 :\n",
    "    \n",
    "    cnt += 1 # 15의 배수일 경우 1개씩 누적\n",
    "    \n",
    "    b += 15\n",
    "\n",
    "\n",
    "print(f'15의 배수의 개수:{cnt}')\n",
    "    "
   ]
  },
  {
   "cell_type": "markdown",
   "id": "efa9b9db",
   "metadata": {},
   "source": [
    "#### 실습\n",
    "\n",
    "100까지 정수중에서 4의 배수이면서 8의 배수가 아닌수의 합계를 구하세요.\n"
   ]
  },
  {
   "cell_type": "code",
   "execution_count": 44,
   "id": "3a108ac7",
   "metadata": {},
   "outputs": [
    {
     "name": "stdout",
     "output_type": "stream",
     "text": [
      "4의 배수이면서 8의 배수가 아닌값: 676\n"
     ]
    }
   ],
   "source": [
    "\n",
    "x = 1\n",
    "sum3 = 0 # 합계 누적\n",
    "\n",
    "while x <= 100 :\n",
    "    \n",
    "    if x % 4 == 0 and x % 8 != 0 :\n",
    "        sum3 += x\n",
    "    \n",
    "    x += 1\n",
    "\n",
    "print('4의 배수이면서 8의 배수가 아닌값:', sum3)"
   ]
  },
  {
   "cell_type": "markdown",
   "id": "3c25942c",
   "metadata": {},
   "source": [
    "#### 실습\n",
    "어떤 정수를 입력받아서 입력받은 정수까지의 약수들의 합계를 구하세요.\n",
    "\n",
    "ex) 15를 입력받음 => 1, 3, 5, 15 => 24"
   ]
  },
  {
   "cell_type": "code",
   "execution_count": 47,
   "id": "97722ecd",
   "metadata": {},
   "outputs": [
    {
     "name": "stdout",
     "output_type": "stream",
     "text": [
      "정수입력> 3\n",
      "4\n"
     ]
    }
   ],
   "source": [
    "num = int(input('정수입력> '))\n",
    "\n",
    "x = 1\n",
    "sum4 = 0 # 합계누적\n",
    "\n",
    "while x <= num :\n",
    "    \n",
    "    if num % x == 0 : # 약수의 의미가 됩니다\n",
    "        sum4 += x\n",
    "    \n",
    "    x += 1\n",
    "\n",
    "print(sum4)\n"
   ]
  },
  {
   "cell_type": "code",
   "execution_count": null,
   "id": "e341047d",
   "metadata": {},
   "outputs": [],
   "source": []
  },
  {
   "cell_type": "code",
   "execution_count": null,
   "id": "0513d329",
   "metadata": {},
   "outputs": [],
   "source": []
  },
  {
   "cell_type": "code",
   "execution_count": null,
   "id": "b38cedf4",
   "metadata": {},
   "outputs": [],
   "source": []
  },
  {
   "cell_type": "code",
   "execution_count": null,
   "id": "9c5fb0fd",
   "metadata": {},
   "outputs": [],
   "source": []
  },
  {
   "cell_type": "code",
   "execution_count": null,
   "id": "7ad96ea7",
   "metadata": {},
   "outputs": [],
   "source": []
  },
  {
   "cell_type": "code",
   "execution_count": null,
   "id": "1aa390fe",
   "metadata": {},
   "outputs": [],
   "source": []
  }
 ],
 "metadata": {
  "kernelspec": {
   "display_name": "Python 3 (ipykernel)",
   "language": "python",
   "name": "python3"
  },
  "language_info": {
   "codemirror_mode": {
    "name": "ipython",
    "version": 3
   },
   "file_extension": ".py",
   "mimetype": "text/x-python",
   "name": "python",
   "nbconvert_exporter": "python",
   "pygments_lexer": "ipython3",
   "version": "3.11.5"
  }
 },
 "nbformat": 4,
 "nbformat_minor": 5
}
