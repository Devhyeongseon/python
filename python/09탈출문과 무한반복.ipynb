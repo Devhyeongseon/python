{
 "cells": [
  {
   "cell_type": "markdown",
   "id": "a9e1b95d",
   "metadata": {},
   "source": [
    "### 탈출문 break, continue"
   ]
  },
  {
   "cell_type": "code",
   "execution_count": 6,
   "id": "30337334",
   "metadata": {},
   "outputs": [
    {
     "name": "stdout",
     "output_type": "stream",
     "text": [
      "1\n",
      "2\n",
      "3\n",
      "4\n",
      "5\n",
      "프로그램 정상종료\n"
     ]
    }
   ],
   "source": [
    "for i in range(1, 11) :\n",
    "     \n",
    "    print(i)\n",
    "\n",
    "    if i == 5 :\n",
    "        break\n",
    "    \n",
    "    \n",
    "print('프로그램 정상종료')"
   ]
  },
  {
   "cell_type": "code",
   "execution_count": 7,
   "id": "86726911",
   "metadata": {},
   "outputs": [
    {
     "name": "stdout",
     "output_type": "stream",
     "text": [
      "1\n",
      "2\n",
      "3\n",
      "4\n",
      "6\n",
      "7\n",
      "8\n",
      "9\n",
      "10\n"
     ]
    }
   ],
   "source": [
    "for i in range(1, 11) :\n",
    "    \n",
    "    if i == 5 :\n",
    "        continue # 반복문의 다음\n",
    "        \n",
    "    print(i)\n",
    "    "
   ]
  },
  {
   "cell_type": "code",
   "execution_count": 19,
   "id": "d13cea26",
   "metadata": {},
   "outputs": [],
   "source": [
    "# pass 키워드\n",
    "# 제어문 사용시에 내용을 아무것도 적지 않으면 에러가 나는데, pass키워드를 쓰면됩니다\n",
    "if True :\n",
    "    pass"
   ]
  },
  {
   "cell_type": "markdown",
   "id": "e18ebb01",
   "metadata": {},
   "source": [
    "#### 무한반복문\n",
    "\n",
    "반복의 횟수를 정확히 모를 때 사용함  \n",
    "대신, 특정 조건에서 탈출문과 함께 사용됩니다."
   ]
  },
  {
   "cell_type": "code",
   "execution_count": 10,
   "id": "af762d3a",
   "metadata": {},
   "outputs": [
    {
     "name": "stdout",
     "output_type": "stream",
     "text": [
      "먹고싶은 과일>사과\n",
      "사과\n",
      "먹고싶은 과일>애플\n",
      "애플\n",
      "먹고싶은 과일>딸기\n",
      "딸기\n",
      "먹고싶은 과일>그만\n",
      "그만을 입력해서 그만둡니다\n"
     ]
    }
   ],
   "source": [
    "# 먹고싶은 과일 입력받기, 그만이라는 단어가 들어오면 중단\n",
    "\n",
    "while True :\n",
    "    \n",
    "    fruit = input('먹고싶은 과일>')\n",
    "    \n",
    "    if fruit == '그만' :\n",
    "        print('그만을 입력해서 그만둡니다')\n",
    "        break\n",
    "    \n",
    "    print(fruit)"
   ]
  },
  {
   "cell_type": "markdown",
   "id": "0f685945",
   "metadata": {},
   "source": [
    "#### 실습"
   ]
  },
  {
   "cell_type": "code",
   "execution_count": 6,
   "id": "349ee1c0",
   "metadata": {},
   "outputs": [
    {
     "name": "stdout",
     "output_type": "stream",
     "text": [
      "문제:38 x 12 = ?\n",
      "정답>3\n",
      "틀렸습니다\n",
      "정답>4\n",
      "틀렸습니다\n",
      "정답>5\n",
      "틀렸습니다\n",
      "정답>456\n",
      "정답입니다ㅋ\n",
      "4 만에 맞추셨네요!\n"
     ]
    }
   ],
   "source": [
    "print('문제:38 x 12 = ?')\n",
    "cnt = 0\n",
    "\n",
    "while True :\n",
    "    answer = int( input('정답>') )\n",
    "    cnt += 1 # 횟수체크\n",
    "    \n",
    "    # answer 정답이면 탈출\n",
    "    if answer == 456 :\n",
    "        print('정답입니다ㅋ')\n",
    "        break\n",
    "    else : # 정답이 아닌경우\n",
    "        print('틀렸습니다')\n",
    "        \n",
    "print(f'{cnt} 만에 맞추셨네요!')        \n"
   ]
  },
  {
   "cell_type": "code",
   "execution_count": null,
   "id": "234fa27a",
   "metadata": {},
   "outputs": [],
   "source": []
  },
  {
   "cell_type": "code",
   "execution_count": null,
   "id": "aa2fca75",
   "metadata": {},
   "outputs": [],
   "source": []
  }
 ],
 "metadata": {
  "kernelspec": {
   "display_name": "Python 3 (ipykernel)",
   "language": "python",
   "name": "python3"
  },
  "language_info": {
   "codemirror_mode": {
    "name": "ipython",
    "version": 3
   },
   "file_extension": ".py",
   "mimetype": "text/x-python",
   "name": "python",
   "nbconvert_exporter": "python",
   "pygments_lexer": "ipython3",
   "version": "3.11.5"
  }
 },
 "nbformat": 4,
 "nbformat_minor": 5
}
