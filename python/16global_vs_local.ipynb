{
 "cells": [
  {
   "cell_type": "markdown",
   "id": "68707fe3",
   "metadata": {},
   "source": [
    "#### 전역변수 vs 지역변수\n",
    "\n",
    "전역변수 - 함수밖에서 만들어진 변수 전역변수 (어디서든 사용가능)  \n",
    "지역변수 - 함수안에서 만들어진 변수 지역변수 (함수안에서만 사용가능)  \n"
   ]
  },
  {
   "cell_type": "code",
   "execution_count": 2,
   "id": "1a47384c",
   "metadata": {},
   "outputs": [],
   "source": [
    "name = '홍길동' # 전역변수\n",
    "\n",
    "def func1() :\n",
    "    \n",
    "    age = 10 # 지역변수\n",
    "    \n",
    "    print(name)"
   ]
  },
  {
   "cell_type": "code",
   "execution_count": 4,
   "id": "4cdd82c1",
   "metadata": {},
   "outputs": [
    {
     "name": "stdout",
     "output_type": "stream",
     "text": [
      "홍길동\n"
     ]
    },
    {
     "ename": "NameError",
     "evalue": "name 'age' is not defined",
     "output_type": "error",
     "traceback": [
      "\u001b[1;31m---------------------------------------------------------------------------\u001b[0m",
      "\u001b[1;31mNameError\u001b[0m                                 Traceback (most recent call last)",
      "Cell \u001b[1;32mIn[4], line 3\u001b[0m\n\u001b[0;32m      1\u001b[0m func1()\n\u001b[1;32m----> 3\u001b[0m \u001b[38;5;28mprint\u001b[39m(age)\n",
      "\u001b[1;31mNameError\u001b[0m: name 'age' is not defined"
     ]
    }
   ],
   "source": [
    "func1()\n",
    "\n",
    "print(age) # err - 함수 밖에서 지역변수에는 접근이 안됨"
   ]
  },
  {
   "cell_type": "code",
   "execution_count": 29,
   "id": "4a2b5e76",
   "metadata": {},
   "outputs": [],
   "source": [
    "# 전역변수와 동일한 이름의 지역변수가 사용되는 경우\n",
    "\n",
    "a = '전역변수'\n",
    "\n",
    "def func3() :\n",
    "    # 동일한 이름의 지역변수가 있을 때, 전역변수를 참조 해야한다면, \n",
    "    # 변수사용전에 global 키워드를 줄 수 있음\n",
    "    global a \n",
    "    print('before',a )\n",
    "    a = '지역변수'\n",
    "    print('after', a )"
   ]
  },
  {
   "cell_type": "code",
   "execution_count": 30,
   "id": "e2c3009f",
   "metadata": {},
   "outputs": [
    {
     "name": "stdout",
     "output_type": "stream",
     "text": [
      "before 전역변수\n",
      "after 지역변수\n"
     ]
    }
   ],
   "source": [
    "func3()"
   ]
  },
  {
   "cell_type": "markdown",
   "id": "db48f45b",
   "metadata": {},
   "source": [
    "#### 함수의 기본값 매개변수\n",
    "\n",
    "- 파이썬에서는 매개변수의 기본값을 지정해서, 자주 바뀌지 않는 매개값은 기본값으로 처리가 가능합니다"
   ]
  },
  {
   "cell_type": "code",
   "execution_count": 31,
   "id": "0c7d38fc",
   "metadata": {},
   "outputs": [],
   "source": [
    "# 시작, 끝, 스탭, 매개변수 3개를 받아서 합계\n",
    "def calc(start, end, step=1 ) :\n",
    "    \n",
    "    sum_ = 0\n",
    "    \n",
    "    for i in range(start, end+1, step) :\n",
    "        sum_ += i\n",
    "    \n",
    "    return sum_\n",
    "    "
   ]
  },
  {
   "cell_type": "code",
   "execution_count": 37,
   "id": "4ab551d0",
   "metadata": {},
   "outputs": [
    {
     "data": {
      "text/plain": [
       "9"
      ]
     },
     "execution_count": 37,
     "metadata": {},
     "output_type": "execute_result"
    }
   ],
   "source": [
    "# calc(1, 5, 1) # 1 + 2 + 3 + 4 + 5\n",
    "calc(1, 5) # 세번째 매개변수는 기본값이 적용\n",
    "calc(1, 5, 2) \n"
   ]
  },
  {
   "cell_type": "code",
   "execution_count": 39,
   "id": "9c6ebd90",
   "metadata": {},
   "outputs": [],
   "source": [
    "# 기본값을 가지는 함수\n",
    "# 기본값을 가지는 매개변수는 일반매개변수보다 뒤쪽에 선언이 들어가야합니다\n",
    "def calc2(start, end = 10, step = 1) :\n",
    "    \n",
    "    sum_ = 0\n",
    "    \n",
    "    for i in range(start, end+1, step) :\n",
    "        sum_ += i\n",
    "\n",
    "    return sum_\n"
   ]
  },
  {
   "cell_type": "code",
   "execution_count": 42,
   "id": "278b0830",
   "metadata": {},
   "outputs": [
    {
     "data": {
      "text/plain": [
       "55"
      ]
     },
     "execution_count": 42,
     "metadata": {},
     "output_type": "execute_result"
    }
   ],
   "source": [
    "calc2(1)\n",
    "calc2(1, 10)"
   ]
  },
  {
   "cell_type": "markdown",
   "id": "74d98193",
   "metadata": {},
   "source": [
    "#### 키워드 인수(매개변수)\n",
    "- 매개변수의 개수가 많아지면, 순서를 파악하는데 위치를 헷갈릴 가능성이 있습니다  \n",
    "\n",
    "ex)  \n",
    "def sign_user(name, id, pw, address, phone, gender, email, nickname) :\n",
    "\n",
    "- 파이썬에서는 순서와 무관하게 직접 지정해서 값을 전달하는 방법을 제공합니다.\n"
   ]
  },
  {
   "cell_type": "code",
   "execution_count": 45,
   "id": "a77c8656",
   "metadata": {},
   "outputs": [],
   "source": [
    "def calc3(start, end, step) :\n",
    "    \n",
    "    sum_ = 0\n",
    "    for i in range(start, end+1, step) :\n",
    "        sum_ += i\n",
    "        \n",
    "    return sum_\n",
    "    "
   ]
  },
  {
   "cell_type": "code",
   "execution_count": 49,
   "id": "f16d0603",
   "metadata": {},
   "outputs": [
    {
     "data": {
      "text/plain": [
       "55"
      ]
     },
     "execution_count": 49,
     "metadata": {},
     "output_type": "execute_result"
    }
   ],
   "source": [
    "calc3(step = 1, end = 10, start = 1 )\n",
    "\n",
    "calc3(end = 10, start = 1, step = 1 )\n",
    "\n",
    "calc3(start = 1, step = 1, end = 10 )"
   ]
  },
  {
   "cell_type": "code",
   "execution_count": 51,
   "id": "6c58d4e7",
   "metadata": {},
   "outputs": [],
   "source": [
    "# 키워드 인수와 기본값 매개변수를 같이 사용할 수 있습니다\n",
    "def calc4(a, b, c = 10) :\n",
    "    \n",
    "    return a + b + c\n",
    "\n"
   ]
  },
  {
   "cell_type": "code",
   "execution_count": 59,
   "id": "87fe35c7",
   "metadata": {},
   "outputs": [
    {
     "ename": "SyntaxError",
     "evalue": "positional argument follows keyword argument (455405194.py, line 5)",
     "output_type": "error",
     "traceback": [
      "\u001b[1;36m  Cell \u001b[1;32mIn[59], line 5\u001b[1;36m\u001b[0m\n\u001b[1;33m    calc4(a = 1, 2, 3) # err = 기본매개변수가, 키워드 인수보다 앞에 나와야합니다\u001b[0m\n\u001b[1;37m                     ^\u001b[0m\n\u001b[1;31mSyntaxError\u001b[0m\u001b[1;31m:\u001b[0m positional argument follows keyword argument\n"
     ]
    }
   ],
   "source": [
    "calc4(a = 1, b = 2, c = 10)\n",
    "calc4(a = 1, b = 2)\n",
    "calc4(1, b = 2)\n",
    "\n",
    "calc4(a = 1, 2, 3) # err = 기본매개변수가, 키워드 인수보다 앞에 나와야합니다"
   ]
  },
  {
   "cell_type": "code",
   "execution_count": 66,
   "id": "3c3eea0a",
   "metadata": {},
   "outputs": [
    {
     "name": "stdout",
     "output_type": "stream",
     "text": [
      "홍길동님??안녕하세요^^!"
     ]
    }
   ],
   "source": [
    "# print() 가 대표적인 기본값 매개변수, 키워드인수의 예시\n",
    "print('홍길동님','안녕하세요',  sep = '??', end = '^^!' )"
   ]
  },
  {
   "cell_type": "code",
   "execution_count": 68,
   "id": "6284cd72",
   "metadata": {},
   "outputs": [
    {
     "name": "stdout",
     "output_type": "stream",
     "text": [
      "Python 3.11.5\n"
     ]
    }
   ],
   "source": [
    "\n",
    "!python --version\n"
   ]
  },
  {
   "cell_type": "code",
   "execution_count": null,
   "id": "9ee93a47",
   "metadata": {},
   "outputs": [],
   "source": []
  }
 ],
 "metadata": {
  "kernelspec": {
   "display_name": "Python 3 (ipykernel)",
   "language": "python",
   "name": "python3"
  },
  "language_info": {
   "codemirror_mode": {
    "name": "ipython",
    "version": 3
   },
   "file_extension": ".py",
   "mimetype": "text/x-python",
   "name": "python",
   "nbconvert_exporter": "python",
   "pygments_lexer": "ipython3",
   "version": "3.11.5"
  }
 },
 "nbformat": 4,
 "nbformat_minor": 5
}
