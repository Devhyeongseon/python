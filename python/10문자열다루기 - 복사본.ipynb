{
 "cells": [
  {
   "cell_type": "markdown",
   "id": "40ea320c",
   "metadata": {},
   "source": [
    "#### 문자열 다루기 (인덱싱, 슬라이싱)\n",
    "\n",
    "- 문자열은 인덱스(index) 순서를 가지고, 맨 앞글자가 0번째가 되고, 그 뒤로 1씩증가하는형태\n",
    "\n",
    "> 문자열[인덱스번호]\n"
   ]
  },
  {
   "cell_type": "code",
   "execution_count": 10,
   "id": "8325e508",
   "metadata": {},
   "outputs": [
    {
     "data": {
      "text/plain": [
       "'p'"
      ]
     },
     "execution_count": 10,
     "metadata": {},
     "output_type": "execute_result"
    }
   ],
   "source": [
    "a = 'python' # [p, y, t, h, o, n]\n",
    "\n",
    "a[0] # p\n",
    "a[1] # y\n",
    "a[2] # t\n",
    "a[5] \n",
    "# a[6] # 인덱스를 초과한 값을 참조하면 err\n",
    "\n",
    "a[-1] # n 뒤에서부터 \n",
    "a[-2] # o\n",
    "a[-6] # p"
   ]
  },
  {
   "cell_type": "code",
   "execution_count": 12,
   "id": "eefaa68a",
   "metadata": {},
   "outputs": [
    {
     "name": "stdout",
     "output_type": "stream",
     "text": [
      "p y t h o n "
     ]
    }
   ],
   "source": [
    "# 문자열도 반복문에 적용이 됩니다.\n",
    "for i in a : # python\n",
    "    print(i, end = ' ')"
   ]
  },
  {
   "cell_type": "markdown",
   "id": "923549dc",
   "metadata": {},
   "source": [
    "#### 문자열 슬라이싱\n",
    "> 문자열[시작값 : 끝값미만 : 스탭 ]\n",
    "\n"
   ]
  },
  {
   "cell_type": "code",
   "execution_count": 23,
   "id": "61e4f4c2",
   "metadata": {},
   "outputs": [
    {
     "name": "stdout",
     "output_type": "stream",
     "text": [
      "hello\n",
      "python\n",
      "hello\n",
      "python\n",
      "hello python\n"
     ]
    }
   ],
   "source": [
    "a = 'hello python'\n",
    "\n",
    "print( a[0 : 5] ) # 0 ~5미만\n",
    "print( a[6 : 12]) # 6~12미만\n",
    "\n",
    "print( a[ : 5]) # 시작~5미만\n",
    "print( a[6 : ]) # 6~끝까지\n",
    "print( a[:]) # 문자열전부"
   ]
  },
  {
   "cell_type": "code",
   "execution_count": 38,
   "id": "78bf6280",
   "metadata": {},
   "outputs": [
    {
     "name": "stdout",
     "output_type": "stream",
     "text": [
      "hello python\n",
      "hlopto\n",
      "hlph\n",
      " yhn\n",
      "nhy le\n"
     ]
    }
   ],
   "source": [
    "# step값을 입력하는 경우\n",
    "print( a)\n",
    "print( a[ : : 2] )\n",
    "print( a[ : : 3] )\n",
    "print( a[5 : : 2] )\n",
    "\n",
    "# 음수\n",
    "print( a[: 0 : -2]) # 끝~0번째 거꾸로"
   ]
  },
  {
   "cell_type": "markdown",
   "id": "29020345",
   "metadata": {},
   "source": [
    "#### 실습\n",
    "1. 사용자에게 문자열 형태로 주민번호를 입력받아서 ex)200817-1231234\n",
    "2. 주민번호를 인덱싱해서 남자 or 여자 인지 확인해보세요.\n",
    "\n"
   ]
  },
  {
   "cell_type": "code",
   "execution_count": 72,
   "id": "0bf6aabf",
   "metadata": {},
   "outputs": [
    {
     "name": "stdout",
     "output_type": "stream",
     "text": [
      "주민번호>200817-1231234\n",
      "남자입니다\n"
     ]
    }
   ],
   "source": [
    "number = input('주민번호>')\n",
    "\n",
    "a = number[7] # 입력받은 값에서 7번째 인덱싱 해서 a에 저장\n",
    "\n",
    "if a == '1' or a == '3' :\n",
    "    print('남자입니다')\n",
    "else :\n",
    "    print('여자입니다')\n",
    "\n"
   ]
  },
  {
   "cell_type": "markdown",
   "id": "ab829794",
   "metadata": {},
   "source": [
    "#### 문자열 다루는 함수\n",
    "- 함수: 공용적으로 사용할 수 있는 미리만들어진 기능, ()가 붙어서 나옵니다.\n",
    "- 공통내장함수 - 어디든 사용가능\n",
    "- 문자열 내장함수 - 문자열에서만 사용가능\n"
   ]
  },
  {
   "cell_type": "code",
   "execution_count": 78,
   "id": "c85b5e94",
   "metadata": {},
   "outputs": [
    {
     "name": "stdout",
     "output_type": "stream",
     "text": [
      "아이디를 입력하세요> ㄴㅇㄹ\n",
      "아이디는 6글자 이상이어야 합니다\n"
     ]
    }
   ],
   "source": [
    "len('python') # 문자열의 길이를 반환\n",
    "len([1,2,3,4]) # 리스트 길이를 반환\n",
    "len( range(1, 1000)  )\n",
    "\n",
    "# 아이디는 6글자 이상이어야 한다.\n",
    "ids = input('아이디를 입력하세요> ')\n",
    "\n",
    "if len(ids) < 6 :\n",
    "    print('아이디는 6글자 이상이어야 합니다')\n",
    "else :\n",
    "    print(f'{ids}가 등록되었습니다')\n",
    "\n"
   ]
  },
  {
   "cell_type": "code",
   "execution_count": 83,
   "id": "ce5f6393",
   "metadata": {},
   "outputs": [
    {
     "name": "stdout",
     "output_type": "stream",
     "text": [
      "h가 발견된 위치 0\n",
      "x가 발견된 위치 -1\n"
     ]
    }
   ],
   "source": [
    "# find는 문자를 찾아서 인덱스를 반환해주는 기능\n",
    "a = 'hello'.find('h')\n",
    "print('h가 발견된 위치', a)\n",
    "\n",
    "b = 'hello'.find('x')\n",
    "print('x가 발견된 위치', b) # 없는 값이라면 -1 을 반환\n"
   ]
  },
  {
   "cell_type": "code",
   "execution_count": 87,
   "id": "3d742f24",
   "metadata": {},
   "outputs": [
    {
     "name": "stdout",
     "output_type": "stream",
     "text": [
      "생각이 출현된 횟수: 4\n"
     ]
    }
   ],
   "source": [
    "# count는 특정 문자의 출현 빈도\n",
    "a = '생각 이라는 생각은 생각할수록 자꾸 생각이 나는법'\n",
    "\n",
    "print('생각이 출현된 횟수:', a.count('생각') )"
   ]
  },
  {
   "cell_type": "code",
   "execution_count": 92,
   "id": "91e01f21",
   "metadata": {},
   "outputs": [
    {
     "data": {
      "text/plain": [
       "True"
      ]
     },
     "execution_count": 92,
     "metadata": {},
     "output_type": "execute_result"
    }
   ],
   "source": [
    "a = 'Hello Python'\n",
    "a.isalpha() # 정확히 알파벳으로 이루어져 있다면 True \n",
    "\n",
    "a = '123123'\n",
    "a.isdecimal() # 정확히 숫자로 이루어져 있다면 True\n"
   ]
  },
  {
   "cell_type": "code",
   "execution_count": 97,
   "id": "dc7a6a65",
   "metadata": {},
   "outputs": [
    {
     "data": {
      "text/plain": [
       "'Hello Python'"
      ]
     },
     "execution_count": 97,
     "metadata": {},
     "output_type": "execute_result"
    }
   ],
   "source": [
    "# upper, lower\n",
    "\n",
    "a = 'Hello Python'\n",
    "\n",
    "a.lower() #전부 소문자로 변경\n",
    "a.upper() #전부 대문자로 변경\n",
    "\n",
    "# 문자열 기능을 사용한다고 해서, 원본 문자가 변하는 것은 아닙니다.\n",
    "a\n"
   ]
  },
  {
   "cell_type": "code",
   "execution_count": 106,
   "id": "ae89ba56",
   "metadata": {},
   "outputs": [
    {
     "data": {
      "text/plain": [
       "'오늘 아침에 커피를 한잔먹고, 점심에도 커피를 한잔먹고, 저녁에는 커피를 먹지말아야지'"
      ]
     },
     "execution_count": 106,
     "metadata": {},
     "output_type": "execute_result"
    }
   ],
   "source": [
    "# replace - 문자열 치환\n",
    "\n",
    "a = '오늘 아침에 커피를 한잔먹고, 점심에도 커피를 한잔먹고, 저녁에는 커피를 먹지말아야지'\n",
    "\n",
    "a.replace('커피', 'coffee' ) # (찾을값, 바꿀값)\n",
    "\n",
    "a.replace('커피', 'coffee', 1) # 변경할 개수를 지정할 수도 있습니다.\n",
    "\n",
    "a\n"
   ]
  },
  {
   "cell_type": "code",
   "execution_count": 115,
   "id": "1521b1ea",
   "metadata": {},
   "outputs": [
    {
     "data": {
      "text/plain": [
       "['서울', '대전', '대구', '부산', '찍고']"
      ]
     },
     "execution_count": 115,
     "metadata": {},
     "output_type": "execute_result"
    }
   ],
   "source": [
    "# split - 특정구분자를 이용해서 문자열을 리스트 형태로 자름\n",
    "\n",
    "a = '떡볶이 김말이 튀김 닭강정 먹고싶다'\n",
    "\n",
    "s1 = a.split() # 화이트스페이스(공백기준) 으로 자름\n",
    "s1\n",
    "\n",
    "b = '서울 -> 대전 -> 대구 -> 부산 -> 찍고'\n",
    "\n",
    "s2 = b.split(' -> ') #  공백->공백 기준으로 자름\n",
    "s2\n"
   ]
  },
  {
   "cell_type": "code",
   "execution_count": 122,
   "id": "89866fb9",
   "metadata": {},
   "outputs": [
    {
     "name": "stdout",
     "output_type": "stream",
     "text": [
      "1 2\n",
      "3\n"
     ]
    }
   ],
   "source": [
    "a, b = input().split()\n",
    "\n",
    "print( int(a) + int(b) )\n"
   ]
  },
  {
   "cell_type": "code",
   "execution_count": 126,
   "id": "54813c8a",
   "metadata": {},
   "outputs": [
    {
     "name": "stdout",
     "output_type": "stream",
     "text": [
      "5 8 4\n",
      "1\n",
      "1\n",
      "0\n",
      "0\n"
     ]
    }
   ],
   "source": [
    "A, B, C= input().split()\n",
    "\n",
    "A = int(A)\n",
    "B = int(B)\n",
    "C = int(C)\n",
    "\n",
    "print(   (A+B)%C   )\n",
    "print(   ((A%C) + (B%C))%C    )\n",
    "print(   (A * B)%C     )\n",
    "print(   ((A%C) * (B%C))%C   )"
   ]
  },
  {
   "cell_type": "code",
   "execution_count": null,
   "id": "613a8525",
   "metadata": {},
   "outputs": [],
   "source": []
  },
  {
   "cell_type": "code",
   "execution_count": null,
   "id": "9ae97b1b",
   "metadata": {},
   "outputs": [],
   "source": []
  },
  {
   "cell_type": "code",
   "execution_count": null,
   "id": "0395d16d",
   "metadata": {},
   "outputs": [],
   "source": []
  },
  {
   "cell_type": "code",
   "execution_count": null,
   "id": "19522536",
   "metadata": {},
   "outputs": [],
   "source": []
  },
  {
   "cell_type": "code",
   "execution_count": null,
   "id": "f3b724ca",
   "metadata": {},
   "outputs": [],
   "source": []
  },
  {
   "cell_type": "code",
   "execution_count": null,
   "id": "159a3add",
   "metadata": {},
   "outputs": [],
   "source": []
  },
  {
   "cell_type": "code",
   "execution_count": null,
   "id": "6ff6fd29",
   "metadata": {},
   "outputs": [],
   "source": []
  }
 ],
 "metadata": {
  "kernelspec": {
   "display_name": "Python 3 (ipykernel)",
   "language": "python",
   "name": "python3"
  },
  "language_info": {
   "codemirror_mode": {
    "name": "ipython",
    "version": 3
   },
   "file_extension": ".py",
   "mimetype": "text/x-python",
   "name": "python",
   "nbconvert_exporter": "python",
   "pygments_lexer": "ipython3",
   "version": "3.11.5"
  }
 },
 "nbformat": 4,
 "nbformat_minor": 5
}
