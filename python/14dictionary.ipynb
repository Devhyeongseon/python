{
 "cells": [
  {
   "cell_type": "markdown",
   "id": "a65a43c3",
   "metadata": {},
   "source": [
    "#### 사전 (dictionary)\n",
    "\n",
    "- 사전은 키: 값 을 쌍으로 저장하는 형태\n",
    "- {} 로 생성합니다.\n",
    "- 특징: 검색에 있어서 빠릅니다."
   ]
  },
  {
   "cell_type": "code",
   "execution_count": 4,
   "id": "dd206bf1",
   "metadata": {},
   "outputs": [
    {
     "data": {
      "text/plain": [
       "3"
      ]
     },
     "execution_count": 4,
     "metadata": {},
     "output_type": "execute_result"
    }
   ],
   "source": [
    "students = {\"갱얼쥐\": \"홍길동\", \"고양이\" : \"김철수\", \"토끼\" : \"김영희\"}\n",
    "students\n",
    "\n",
    "type(students) # dict\n",
    "len(students) # 길이 3\n"
   ]
  },
  {
   "cell_type": "code",
   "execution_count": 11,
   "id": "74f1e3b8",
   "metadata": {},
   "outputs": [
    {
     "data": {
      "text/plain": [
       "'김철수'"
      ]
     },
     "execution_count": 11,
     "metadata": {},
     "output_type": "execute_result"
    }
   ],
   "source": [
    "# dict의 사용방법\n",
    "# key는 고유합니다. 값을 찾거나, 변경하거나, 삭제하는 작업이 전부 key로 일어납니다.\n",
    "\n",
    "students[\"갱얼쥐\"] # 키\n",
    "# students[갱얼쥐] # err\n",
    "\n",
    "a = students[\"고양이\"]\n",
    "a\n"
   ]
  },
  {
   "cell_type": "code",
   "execution_count": 14,
   "id": "1bf713b7",
   "metadata": {},
   "outputs": [
    {
     "data": {
      "text/plain": [
       "False"
      ]
     },
     "execution_count": 14,
     "metadata": {},
     "output_type": "execute_result"
    }
   ],
   "source": [
    "# key 의 유무를 확인할 때는 in 문장합니다.\n",
    "\"갱얼쥐\" in students # T\n",
    "\"강아쥐\" in students # F"
   ]
  },
  {
   "cell_type": "code",
   "execution_count": 18,
   "id": "8959e90b",
   "metadata": {},
   "outputs": [
    {
     "data": {
      "text/plain": [
       "{'apple': '사과', 'peach': '복숭아', 'book': '책', 'melon': '초록색과일'}"
      ]
     },
     "execution_count": 18,
     "metadata": {},
     "output_type": "execute_result"
    }
   ],
   "source": [
    "# 사전에 값을 추가하기\n",
    "my_dict = {\"apple\" : \"사과\", \"peach\" : \"복숭아\", \"book\" : \"책\"}\n",
    "\n",
    "my_dict[\"melon\"] = \"초록색과일\"\n",
    "my_dict"
   ]
  },
  {
   "cell_type": "code",
   "execution_count": 23,
   "id": "e785000f",
   "metadata": {},
   "outputs": [
    {
     "data": {
      "text/plain": [
       "{'apple': '사과', 'peach': '복숭아', 'book': '책', 'melon': '뮤직듣는곳'}"
      ]
     },
     "execution_count": 23,
     "metadata": {},
     "output_type": "execute_result"
    }
   ],
   "source": [
    "# 값을 수정하기 - 동일한 키의 값을 변경하면 수정됩니다.\n",
    "my_dict[\"melon\"] = \"뮤직듣는곳\"\n",
    "my_dict\n"
   ]
  },
  {
   "cell_type": "code",
   "execution_count": 29,
   "id": "71d63547",
   "metadata": {},
   "outputs": [
    {
     "data": {
      "text/plain": [
       "{'apple': '사과', 'peach': '복숭아', 'book': '책'}"
      ]
     },
     "execution_count": 29,
     "metadata": {},
     "output_type": "execute_result"
    }
   ],
   "source": [
    "# 값을 삭제하기 - del(키)\n",
    "if \"melon\" in my_dict :\n",
    "    \n",
    "    print(\"키가 있습니다\")\n",
    "    del( my_dict[\"melon\"] ) #melon이 삭제됩니다.\n",
    "\n",
    "my_dict\n",
    "\n"
   ]
  },
  {
   "cell_type": "code",
   "execution_count": 39,
   "id": "0a86f5d5",
   "metadata": {},
   "outputs": [
    {
     "name": "stdout",
     "output_type": "stream",
     "text": [
      "dict_keys(['apple', 'peach', 'book'])\n",
      "키는 apple, 값은 사과\n",
      "키는 peach, 값은 복숭아\n",
      "키는 book, 값은 책\n",
      "dict_values(['사과', '복숭아', '책'])\n",
      "dict_items([('apple', '사과'), ('peach', '복숭아'), ('book', '책')])\n"
     ]
    }
   ],
   "source": [
    "# 사전의 반복\n",
    "print( my_dict.keys() ) # 키를 뽑아서 나열해 줍니다.\n",
    "for i in my_dict.keys() :\n",
    "    print( f'키는 {i}, 값은 {my_dict[i] }' ) # 키\n",
    "\n",
    "print( my_dict.values() ) # 값을 뽑아서 나열해 줍니다. (반복가능)\n",
    "\n",
    "print( my_dict.items() ) # 키:값 을 한번에 뽑아서 나열해 줍니다"
   ]
  },
  {
   "cell_type": "code",
   "execution_count": 43,
   "id": "56d04dde",
   "metadata": {},
   "outputs": [
    {
     "name": "stdout",
     "output_type": "stream",
     "text": [
      "키는 apple , 값은 사과\n",
      "키는 peach , 값은 복숭아\n",
      "키는 book , 값은 책\n"
     ]
    }
   ],
   "source": [
    "for i, j in my_dict.items() :\n",
    "    print( f'키는 {i} , 값은 {j}' )\n"
   ]
  },
  {
   "cell_type": "code",
   "execution_count": 47,
   "id": "98dd5b1d",
   "metadata": {},
   "outputs": [
    {
     "name": "stdout",
     "output_type": "stream",
     "text": [
      "apple\n",
      "peach\n",
      "book\n"
     ]
    }
   ],
   "source": [
    "# 그냥 사전을 반복 돌리면 key가 나옵니다.\n",
    "for i in my_dict :\n",
    "    print( i ) # key"
   ]
  },
  {
   "cell_type": "code",
   "execution_count": 51,
   "id": "7b7e2f32",
   "metadata": {},
   "outputs": [
    {
     "data": {
      "text/plain": [
       "{}"
      ]
     },
     "execution_count": 51,
     "metadata": {},
     "output_type": "execute_result"
    }
   ],
   "source": [
    "# 빈 사전만들기\n",
    "dict_ = {}\n",
    "dict_\n",
    "\n",
    "# 빈 사전만들기\n",
    "dict_ = dict()\n",
    "dict_\n",
    "\n"
   ]
  },
  {
   "cell_type": "markdown",
   "id": "f7d0a0b8",
   "metadata": {},
   "source": [
    "#### 실습\n",
    "1. eng 이름으로 빈 사전을 하나 생성합니다.\n",
    "2. 사용자가 '그만' 입력할 때 까지 영단어와 뜻을 입력받습니다.\n",
    "3. 영단어를 key, 뜻을 values 빈 사전에 하나씩 추가하면 됩니다.\n",
    "4. '그만' 을 입력하면 사전 내부 데이터를 반복문으로 출력."
   ]
  },
  {
   "cell_type": "code",
   "execution_count": 55,
   "id": "769fee99",
   "metadata": {},
   "outputs": [
    {
     "name": "stdout",
     "output_type": "stream",
     "text": [
      "영단어장 만들기\n",
      "-종료하려면 입력창에 '그만'을 입력하세요 \n",
      "영단어>apple\n",
      "뜻>사과\n",
      "단어 등록 성공\n",
      "영단어>그만\n",
      "단어 입력을 종료합니다\n",
      "=====오늘 공부한 단어=====\n",
      "apple : 사과\n"
     ]
    }
   ],
   "source": [
    "eng = {} # {}\n",
    "\n",
    "print('영단어장 만들기')\n",
    "print('-종료하려면 입력창에 \\'그만\\'을 입력하세요 ')\n",
    "\n",
    "while True :\n",
    "    \n",
    "    a = input('영단어>')\n",
    "    if a == '그만' :\n",
    "        print('단어 입력을 종료합니다')\n",
    "        break\n",
    "    \n",
    "    b = input('뜻>')\n",
    "    \n",
    "    eng[a] = b # dict에 값추가\n",
    "    print('단어 등록 성공')\n",
    "\n",
    "print('=====오늘 공부한 단어=====')\n",
    "for i in eng : # i는 키\n",
    "    print(f'{i} : {eng[i]}')\n",
    "    "
   ]
  },
  {
   "cell_type": "markdown",
   "id": "ce1b226b",
   "metadata": {},
   "source": [
    "#### 실습\n",
    "- 사전을 사용한 아이디 비밀번호 확인\n",
    "    key는 id, value는 pw로 사용\n",
    "\n",
    "1. 입력받은 아이디가 사전에 입력된 key인지 먼저 확인합니다.\n",
    "2. 사전에 존재하면 비밀번호를 입력받아서, 해당아이디와 비밀번호가 정확히 일치하는지 확인한 후에, \"로그인 성공\" 출력하고 반복문을 탈출\n",
    "\n",
    "3. 사전에 아이디가 없다면, \"없는 아이디입니다\" 출력\n"
   ]
  },
  {
   "cell_type": "code",
   "execution_count": 1,
   "id": "605297b6",
   "metadata": {},
   "outputs": [
    {
     "name": "stdout",
     "output_type": "stream",
     "text": [
      "---로그인---\n",
      "아이디:ㅇㄷㅀㄷㄱㅎ\n",
      "아이디가 없습니다\n",
      "---로그인---\n",
      "아이디:aaa\n",
      "비밀번호:3453rg\n",
      "비밀번호가 일치하지 않습니다\n",
      "---로그인---\n",
      "아이디:aaa\n",
      "비밀번호:abc123\n",
      "로그인 성공\n"
     ]
    }
   ],
   "source": [
    "user = {'aaa' : 'abc123', 'bbb': 'def123', 'ccc': '1234'}\n",
    "\n",
    "while True :\n",
    "    \n",
    "    print('---로그인---')\n",
    "    \n",
    "    ids = input('아이디:') # 키\n",
    "    \n",
    "    if ids in user : # 키가 사전에 존재하면 True\n",
    "        \n",
    "        pws = input('비밀번호:') \n",
    "        \n",
    "        # pws가 ids의 값과 같은지 확인\n",
    "        if user[ids] == pws :\n",
    "            print('로그인 성공')\n",
    "            break\n",
    "        else :\n",
    "            print('비밀번호가 일치하지 않습니다')\n",
    "    \n",
    "    else : # 존재하지 않는 아이디인경우\n",
    "        print('아이디가 없습니다')\n"
   ]
  },
  {
   "cell_type": "code",
   "execution_count": null,
   "id": "11419fad",
   "metadata": {},
   "outputs": [],
   "source": []
  },
  {
   "cell_type": "code",
   "execution_count": null,
   "id": "59ef1b0d",
   "metadata": {},
   "outputs": [],
   "source": []
  },
  {
   "cell_type": "code",
   "execution_count": null,
   "id": "b9dd23cc",
   "metadata": {},
   "outputs": [],
   "source": []
  },
  {
   "cell_type": "code",
   "execution_count": null,
   "id": "4026be8b",
   "metadata": {},
   "outputs": [],
   "source": []
  }
 ],
 "metadata": {
  "kernelspec": {
   "display_name": "Python 3 (ipykernel)",
   "language": "python",
   "name": "python3"
  },
  "language_info": {
   "codemirror_mode": {
    "name": "ipython",
    "version": 3
   },
   "file_extension": ".py",
   "mimetype": "text/x-python",
   "name": "python",
   "nbconvert_exporter": "python",
   "pygments_lexer": "ipython3",
   "version": "3.11.5"
  }
 },
 "nbformat": 4,
 "nbformat_minor": 5
}
