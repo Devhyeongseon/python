{
 "cells": [
  {
   "cell_type": "markdown",
   "id": "db1ab356",
   "metadata": {},
   "source": [
    "#### 문자열 연산"
   ]
  },
  {
   "cell_type": "code",
   "execution_count": 5,
   "id": "53da584c",
   "metadata": {},
   "outputs": [
    {
     "name": "stdout",
     "output_type": "stream",
     "text": [
      "오늘 저녁은치킨이다! 와 맛있겠다!비비큐로 먹어야지!\n"
     ]
    }
   ],
   "source": [
    "s1 = \"오늘 저녁은\"\n",
    "s2 = \"치킨이다\"\n",
    "\n",
    "s3 = s1 + s2\n",
    "s3\n",
    "\n",
    "print( s1 + s2 + \"! 와 맛있겠다!\" + \"비비큐로 먹어야지!\")\n"
   ]
  },
  {
   "cell_type": "code",
   "execution_count": 3,
   "id": "3f2be854",
   "metadata": {},
   "outputs": [
    {
     "name": "stdout",
     "output_type": "stream",
     "text": [
      "winner winner chichen dinner!!!!winner winner chichen dinner!!!!winner winner chichen dinner!!!!\n"
     ]
    }
   ],
   "source": [
    "# 파이썬에서는 문자열 곱셈도 가능합니다.\n",
    "a = 'winner winner chichen dinner!!!!'\n",
    "print( a * 3)"
   ]
  },
  {
   "cell_type": "code",
   "execution_count": 15,
   "id": "373ce4e2",
   "metadata": {},
   "outputs": [],
   "source": [
    "# 문자열과 서로 다른 타입은 연산이 허용되지 않음\n",
    "# print( a + 10)"
   ]
  },
  {
   "cell_type": "markdown",
   "id": "570ee463",
   "metadata": {},
   "source": [
    "#### 형변환\n",
    "- int()  \n",
    "- float()  \n",
    "- str()  \n",
    "- bool()  "
   ]
  },
  {
   "cell_type": "code",
   "execution_count": 7,
   "id": "c9b5696b",
   "metadata": {},
   "outputs": [
    {
     "name": "stdout",
     "output_type": "stream",
     "text": [
      "홍길동님의 점수는 90입니다\n"
     ]
    },
    {
     "ename": "ValueError",
     "evalue": "could not convert string to float: '홍길동'",
     "output_type": "error",
     "traceback": [
      "\u001b[1;31m---------------------------------------------------------------------------\u001b[0m",
      "\u001b[1;31mValueError\u001b[0m                                Traceback (most recent call last)",
      "Cell \u001b[1;32mIn[7], line 9\u001b[0m\n\u001b[0;32m      4\u001b[0m \u001b[38;5;28mtype\u001b[39m(point)\n\u001b[0;32m      6\u001b[0m \u001b[38;5;28mprint\u001b[39m(name \u001b[38;5;241m+\u001b[39m \u001b[38;5;124m'\u001b[39m\u001b[38;5;124m님의 점수는 \u001b[39m\u001b[38;5;124m'\u001b[39m \u001b[38;5;241m+\u001b[39m \u001b[38;5;28mstr\u001b[39m(point) \u001b[38;5;241m+\u001b[39m \u001b[38;5;124m'\u001b[39m\u001b[38;5;124m입니다\u001b[39m\u001b[38;5;124m'\u001b[39m)\n\u001b[1;32m----> 9\u001b[0m \u001b[38;5;28mfloat\u001b[39m(\u001b[38;5;124m\"\u001b[39m\u001b[38;5;124m홍길동\u001b[39m\u001b[38;5;124m\"\u001b[39m)\n",
      "\u001b[1;31mValueError\u001b[0m: could not convert string to float: '홍길동'"
     ]
    }
   ],
   "source": [
    "name = '홍길동'\n",
    "point = 90\n",
    "\n",
    "type(point)\n",
    "\n",
    "print(name + '님의 점수는 ' + str(point) + '입니다')\n",
    "\n",
    "\n",
    "\n"
   ]
  },
  {
   "cell_type": "code",
   "execution_count": 36,
   "id": "a924dfe6",
   "metadata": {},
   "outputs": [
    {
     "data": {
      "text/plain": [
       "90"
      ]
     },
     "execution_count": 36,
     "metadata": {},
     "output_type": "execute_result"
    }
   ],
   "source": [
    "str(point) # '90'\n",
    "float(point) # 90.0\n",
    "int(3.14) # 3\n",
    "bool('True') # 논리형으로 변경\n",
    "str(point) # '90'\n",
    "\n",
    "\n",
    "# int(name) # 바뀔 수 없는 값은 형 변환시에 에러를 발생시킴\n"
   ]
  },
  {
   "cell_type": "code",
   "execution_count": 45,
   "id": "4cdedeff",
   "metadata": {},
   "outputs": [
    {
     "data": {
      "text/plain": [
       "int"
      ]
     },
     "execution_count": 45,
     "metadata": {},
     "output_type": "execute_result"
    }
   ],
   "source": [
    "# 현재 point는 무슨 타입인가요?\n",
    "# 형변환 함수를 사용한다고 해서 원본변수가 바뀌는 것은 아닙니다.\n",
    "type(point)\n",
    "# 원본변수를 바꿔서 새로운 변수로 사용을 하려면 \n",
    "x = str(point)\n",
    "x\n",
    "\n",
    "y = int(3.14)\n",
    "y\n",
    "\n",
    "# 문자열 => 실수형 => 정수형 => 변수저장\n",
    "z = \"3.141592\"\n",
    "k = int( float(z) )\n",
    "k # 3\n",
    "\n",
    "type(k)\n",
    "\n"
   ]
  },
  {
   "cell_type": "markdown",
   "id": "8413749d",
   "metadata": {},
   "source": [
    "####  표준 입력 input()"
   ]
  },
  {
   "cell_type": "code",
   "execution_count": 49,
   "id": "54e05c5d",
   "metadata": {},
   "outputs": [
    {
     "name": "stdout",
     "output_type": "stream",
     "text": [
      "ㄱㅀ\n",
      "입력한 값은:ㄱㅀ\n"
     ]
    }
   ],
   "source": [
    "a1 = input()\n",
    "\n",
    "print('입력한 값은:' +  a1)"
   ]
  },
  {
   "cell_type": "code",
   "execution_count": 51,
   "id": "8a8c649d",
   "metadata": {},
   "outputs": [
    {
     "name": "stdout",
     "output_type": "stream",
     "text": [
      "너 별명이 뭐니?못생김\n",
      "너의 별명은:못생김\n"
     ]
    }
   ],
   "source": [
    "# 사용자에게 질문할 내용을 문자열 형태로 적습니다.\n",
    "a2 = input('너 별명이 뭐니?') \n",
    "\n",
    "print('너의 별명은:' + a2)"
   ]
  },
  {
   "cell_type": "code",
   "execution_count": 55,
   "id": "870dfe96",
   "metadata": {},
   "outputs": [
    {
     "name": "stdout",
     "output_type": "stream",
     "text": [
      "숫자입력>1\n",
      "숫자입력>2\n",
      "두 숫자의 합: 3\n"
     ]
    }
   ],
   "source": [
    "n1 = int( input('숫자입력>')  )  # 문자열로 입력이 들어옵니다.\n",
    "n2 = int( input('숫자입력>')  )\n",
    "\n",
    "print('두 숫자의 합:', n1 + n2 )"
   ]
  },
  {
   "cell_type": "markdown",
   "id": "b4d571c9",
   "metadata": {},
   "source": [
    "### 실습"
   ]
  },
  {
   "cell_type": "code",
   "execution_count": 68,
   "id": "2a7a0cf7",
   "metadata": {},
   "outputs": [
    {
     "name": "stdout",
     "output_type": "stream",
     "text": [
      "이름을 입력하세요: 홍길동\n",
      "나이를 입력하세요: 20\n",
      "------------------------------\n",
      "이름: 홍길동\n",
      "나이: 20 세\n",
      "출생년도: 2004 년\n"
     ]
    }
   ],
   "source": [
    "x1 = input('이름을 입력하세요: ')\n",
    "x2 = int( input('나이를 입력하세요: ') )\n",
    "\n",
    "print('-' * 30)\n",
    "print('이름:', x1)\n",
    "print('나이:', x2, '세')\n",
    "print('출생년도:', 2023 - x2 + 1, '년' )"
   ]
  },
  {
   "cell_type": "code",
   "execution_count": 76,
   "id": "73cd5444",
   "metadata": {},
   "outputs": [
    {
     "name": "stdout",
     "output_type": "stream",
     "text": [
      "음식의 가격:3\n",
      "사람 수:4\n",
      "------------------------------\n",
      "가게에 지불해야 할 금액: 12 원\n"
     ]
    }
   ],
   "source": [
    "price = int(input(\"음식의 가격:\"))\n",
    "num = int(input(\"사람 수:\"))\n",
    "\n",
    "print('-' * 30)\n",
    "#print('가게에 지불해야 할 금액:' + str(price * num) + '원' )\n",
    "print('가게에 지불해야 할 금액:' , price * num, '원')\n"
   ]
  },
  {
   "cell_type": "code",
   "execution_count": null,
   "id": "a213f997",
   "metadata": {},
   "outputs": [],
   "source": []
  },
  {
   "cell_type": "code",
   "execution_count": null,
   "id": "58ee6fe3",
   "metadata": {},
   "outputs": [],
   "source": []
  },
  {
   "cell_type": "code",
   "execution_count": null,
   "id": "195269dc",
   "metadata": {},
   "outputs": [],
   "source": []
  },
  {
   "cell_type": "code",
   "execution_count": null,
   "id": "489ecdde",
   "metadata": {},
   "outputs": [],
   "source": []
  }
 ],
 "metadata": {
  "kernelspec": {
   "display_name": "Python 3 (ipykernel)",
   "language": "python",
   "name": "python3"
  },
  "language_info": {
   "codemirror_mode": {
    "name": "ipython",
    "version": 3
   },
   "file_extension": ".py",
   "mimetype": "text/x-python",
   "name": "python",
   "nbconvert_exporter": "python",
   "pygments_lexer": "ipython3",
   "version": "3.11.5"
  }
 },
 "nbformat": 4,
 "nbformat_minor": 5
}
