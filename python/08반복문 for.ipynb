{
 "cells": [
  {
   "cell_type": "markdown",
   "id": "abe0925d",
   "metadata": {},
   "source": [
    "#### 반복문 for\n",
    "\n",
    "> for 변수 in 나열가능한자료 :\n",
    "\n",
    "리스트 - []안에 값을 나열해 놓은 형식입니다.\n",
    "    \n"
   ]
  },
  {
   "cell_type": "code",
   "execution_count": 4,
   "id": "0d9c90d5",
   "metadata": {},
   "outputs": [
    {
     "name": "stdout",
     "output_type": "stream",
     "text": [
      "1 님 안녕하세요?\n",
      "2 님 안녕하세요?\n",
      "3 님 안녕하세요?\n"
     ]
    }
   ],
   "source": [
    "for i in [1,2,3] :\n",
    "    \n",
    "    print(i, '님 안녕하세요?')\n",
    "    "
   ]
  },
  {
   "cell_type": "code",
   "execution_count": 8,
   "id": "45edd4e0",
   "metadata": {},
   "outputs": [
    {
     "name": "stdout",
     "output_type": "stream",
     "text": [
      "리스트라는 요소안에 값의 합: 55\n"
     ]
    }
   ],
   "source": [
    "sum1 = 0 # 합계 누적할 변수\n",
    "\n",
    "for i in [1,2,3,4,5,6,7,8,9,10] :\n",
    "    sum1 += i\n",
    "\n",
    "print('리스트라는 요소안에 값의 합:', sum1)\n",
    "    "
   ]
  },
  {
   "cell_type": "markdown",
   "id": "2a446e44",
   "metadata": {},
   "source": [
    "#### range함수\n",
    "\n",
    "- 리스트를 생성할 때 일일히 하나씩 다 적는건 한계가 있습니다.  \n",
    "- range(시작값, 끝값, 점핑값) 을 통해서 리스트를 좀더 쉽게 생성할 수 있습니다.\n"
   ]
  },
  {
   "cell_type": "code",
   "execution_count": 11,
   "id": "c3a0a76c",
   "metadata": {},
   "outputs": [
    {
     "data": {
      "text/plain": [
       "[1, 2, 3, 4, 5, 6, 7, 8, 9, 10]"
      ]
     },
     "execution_count": 11,
     "metadata": {},
     "output_type": "execute_result"
    }
   ],
   "source": [
    "list1 = list( range(1, 11) ) # 시작값은 포함, 끝값 미만, 점핑값은 생략이 가능\n",
    "list1\n",
    "\n",
    "list2 = list( range(2, 11, 2) )\n",
    "list2\n",
    "\n",
    "list3 = list( range(1, 11, 1) )\n",
    "list3\n",
    "\n"
   ]
  },
  {
   "cell_type": "code",
   "execution_count": 16,
   "id": "185ea9be",
   "metadata": {},
   "outputs": [
    {
     "name": "stdout",
     "output_type": "stream",
     "text": [
      "1 2 3 4 5 6 7 8 9 10 "
     ]
    }
   ],
   "source": [
    "for i in range(1, 11) : # 1~10\n",
    "    print(i, end= ' ')"
   ]
  },
  {
   "cell_type": "markdown",
   "id": "38550d34",
   "metadata": {},
   "source": [
    "#### 실습\n",
    "1. 7~200까지 정수 중에서 점핑값을 7로 해서 7의 배수를 가로로 출력\n",
    "\n",
    "2. 1~9876까지 정수 중에서 13의 배수의 개수를 구하세요.\n",
    "\n",
    "3. 구구단 단수를 입력받고 for문을 이용해서 구구단을 출력.\n"
   ]
  },
  {
   "cell_type": "code",
   "execution_count": 19,
   "id": "9f830ecd",
   "metadata": {},
   "outputs": [
    {
     "name": "stdout",
     "output_type": "stream",
     "text": [
      "7 14 21 28 35 42 49 56 63 70 77 84 91 98 105 112 119 126 133 140 147 154 161 168 175 182 189 196 "
     ]
    }
   ],
   "source": [
    "for i in range(7, 201, 7) :\n",
    "    print(i, end= ' ')"
   ]
  },
  {
   "cell_type": "code",
   "execution_count": 21,
   "id": "45f6c621",
   "metadata": {},
   "outputs": [
    {
     "name": "stdout",
     "output_type": "stream",
     "text": [
      "13의 배수의 개수 759\n"
     ]
    }
   ],
   "source": [
    "cnt = 0\n",
    "\n",
    "for i in range(1, 9877) :\n",
    "    if i % 13 == 0 :\n",
    "       cnt+=1 \n",
    "\n",
    "print('13의 배수의 개수', cnt)"
   ]
  },
  {
   "cell_type": "code",
   "execution_count": 22,
   "id": "2d3734bd",
   "metadata": {},
   "outputs": [
    {
     "name": "stdout",
     "output_type": "stream",
     "text": [
      "구구단 단수: 3\n",
      "3 x 1 = 3\n",
      "3 x 2 = 6\n",
      "3 x 3 = 9\n",
      "3 x 4 = 12\n",
      "3 x 5 = 15\n",
      "3 x 6 = 18\n",
      "3 x 7 = 21\n",
      "3 x 8 = 24\n",
      "3 x 9 = 27\n"
     ]
    }
   ],
   "source": [
    "dan = int(input('구구단 단수: '))\n",
    "\n",
    "for i in range(1, 10) : # 9번\n",
    "    print(f'{dan} x {i} = {dan*i}')"
   ]
  },
  {
   "cell_type": "markdown",
   "id": "edef3cfc",
   "metadata": {},
   "source": [
    "#### 중첩반복\n",
    "- 외부 반복문 안에 내부에서 반복문이 존재하는 형태"
   ]
  },
  {
   "cell_type": "code",
   "execution_count": 23,
   "id": "a69a98f1",
   "metadata": {},
   "outputs": [
    {
     "name": "stdout",
     "output_type": "stream",
     "text": [
      "1 - 1\n",
      "1 - 2\n",
      "1 - 3\n",
      "1 - 4\n",
      "1 - 5\n",
      "2 - 1\n",
      "2 - 2\n",
      "2 - 3\n",
      "2 - 4\n",
      "2 - 5\n",
      "3 - 1\n",
      "3 - 2\n",
      "3 - 3\n",
      "3 - 4\n",
      "3 - 5\n",
      "4 - 1\n",
      "4 - 2\n",
      "4 - 3\n",
      "4 - 4\n",
      "4 - 5\n",
      "5 - 1\n",
      "5 - 2\n",
      "5 - 3\n",
      "5 - 4\n",
      "5 - 5\n",
      "6 - 1\n",
      "6 - 2\n",
      "6 - 3\n",
      "6 - 4\n",
      "6 - 5\n",
      "7 - 1\n",
      "7 - 2\n",
      "7 - 3\n",
      "7 - 4\n",
      "7 - 5\n",
      "8 - 1\n",
      "8 - 2\n",
      "8 - 3\n",
      "8 - 4\n",
      "8 - 5\n",
      "9 - 1\n",
      "9 - 2\n",
      "9 - 3\n",
      "9 - 4\n",
      "9 - 5\n"
     ]
    }
   ],
   "source": [
    "for i in range(1, 10) : # 1~9\n",
    "    \n",
    "    for j in range(1, 6) : # 1~5\n",
    "        \n",
    "        print(i, '-', j) #  "
   ]
  },
  {
   "cell_type": "markdown",
   "id": "1525cf6e",
   "metadata": {},
   "source": [
    "#### 실습\n",
    "- 구구단 2단~9단까지 결과를 전부 출력\n",
    "- 구구단이 시작될 때는 단수도 출력을 해주세요"
   ]
  },
  {
   "cell_type": "code",
   "execution_count": 31,
   "id": "3f02a5a5",
   "metadata": {},
   "outputs": [
    {
     "name": "stdout",
     "output_type": "stream",
     "text": [
      "구구단 2 단\n",
      "2 x 1 = 2\n",
      "2 x 2 = 4\n",
      "2 x 3 = 6\n",
      "2 x 4 = 8\n",
      "2 x 5 = 10\n",
      "2 x 6 = 12\n",
      "2 x 7 = 14\n",
      "2 x 8 = 16\n",
      "2 x 9 = 18\n",
      "\n",
      "구구단 3 단\n",
      "3 x 1 = 3\n",
      "3 x 2 = 6\n",
      "3 x 3 = 9\n",
      "3 x 4 = 12\n",
      "3 x 5 = 15\n",
      "3 x 6 = 18\n",
      "3 x 7 = 21\n",
      "3 x 8 = 24\n",
      "3 x 9 = 27\n",
      "\n",
      "구구단 4 단\n",
      "4 x 1 = 4\n",
      "4 x 2 = 8\n",
      "4 x 3 = 12\n",
      "4 x 4 = 16\n",
      "4 x 5 = 20\n",
      "4 x 6 = 24\n",
      "4 x 7 = 28\n",
      "4 x 8 = 32\n",
      "4 x 9 = 36\n",
      "\n",
      "구구단 5 단\n",
      "5 x 1 = 5\n",
      "5 x 2 = 10\n",
      "5 x 3 = 15\n",
      "5 x 4 = 20\n",
      "5 x 5 = 25\n",
      "5 x 6 = 30\n",
      "5 x 7 = 35\n",
      "5 x 8 = 40\n",
      "5 x 9 = 45\n",
      "\n",
      "구구단 6 단\n",
      "6 x 1 = 6\n",
      "6 x 2 = 12\n",
      "6 x 3 = 18\n",
      "6 x 4 = 24\n",
      "6 x 5 = 30\n",
      "6 x 6 = 36\n",
      "6 x 7 = 42\n",
      "6 x 8 = 48\n",
      "6 x 9 = 54\n",
      "\n",
      "구구단 7 단\n",
      "7 x 1 = 7\n",
      "7 x 2 = 14\n",
      "7 x 3 = 21\n",
      "7 x 4 = 28\n",
      "7 x 5 = 35\n",
      "7 x 6 = 42\n",
      "7 x 7 = 49\n",
      "7 x 8 = 56\n",
      "7 x 9 = 63\n",
      "\n",
      "구구단 8 단\n",
      "8 x 1 = 8\n",
      "8 x 2 = 16\n",
      "8 x 3 = 24\n",
      "8 x 4 = 32\n",
      "8 x 5 = 40\n",
      "8 x 6 = 48\n",
      "8 x 7 = 56\n",
      "8 x 8 = 64\n",
      "8 x 9 = 72\n",
      "\n",
      "구구단 9 단\n",
      "9 x 1 = 9\n",
      "9 x 2 = 18\n",
      "9 x 3 = 27\n",
      "9 x 4 = 36\n",
      "9 x 5 = 45\n",
      "9 x 6 = 54\n",
      "9 x 7 = 63\n",
      "9 x 8 = 72\n",
      "9 x 9 = 81\n",
      "\n"
     ]
    }
   ],
   "source": [
    "for i in range(2, 10) : # 2-9\n",
    "    \n",
    "    print(f'구구단 {i} 단')\n",
    "    \n",
    "    for j in range(1, 10) : #1-9\n",
    "        print(f'{i} x {j} = {i*j}')\n",
    "\n",
    "    print() # \\n\n",
    "    \n",
    "    \n",
    "    "
   ]
  },
  {
   "cell_type": "code",
   "execution_count": 32,
   "id": "a5f17dee",
   "metadata": {},
   "outputs": [
    {
     "name": "stdout",
     "output_type": "stream",
     "text": [
      "*\n",
      "**\n",
      "***\n",
      "****\n",
      "*****\n"
     ]
    }
   ],
   "source": [
    "print('*')\n",
    "print('**')\n",
    "print('***')\n",
    "print('****')\n",
    "print('*****')"
   ]
  },
  {
   "cell_type": "code",
   "execution_count": 40,
   "id": "88762404",
   "metadata": {},
   "outputs": [
    {
     "name": "stdout",
     "output_type": "stream",
     "text": [
      "*\n",
      "**\n",
      "***\n",
      "****\n",
      "*****\n"
     ]
    }
   ],
   "source": [
    "star = 6\n",
    "\n",
    "for i in range(1, star) : # 1-5 # 행\n",
    "    \n",
    "    for j in range(1, i+1) : # 바깥 회전수가 변함에 따라서 내부반복문 회전도 변함\n",
    "        \n",
    "        print('*', end = '')\n",
    "    \n",
    "    print()"
   ]
  },
  {
   "cell_type": "code",
   "execution_count": 41,
   "id": "c6d5de38",
   "metadata": {},
   "outputs": [
    {
     "data": {
      "text/plain": [
       "'\\n*****\\n****\\n***\\n**\\n*\\n'"
      ]
     },
     "execution_count": 41,
     "metadata": {},
     "output_type": "execute_result"
    }
   ],
   "source": [
    "'''\n",
    "*****\n",
    "****\n",
    "***\n",
    "**\n",
    "*\n",
    "'''"
   ]
  },
  {
   "cell_type": "code",
   "execution_count": 44,
   "id": "14493357",
   "metadata": {},
   "outputs": [
    {
     "name": "stdout",
     "output_type": "stream",
     "text": [
      "*****\n",
      "****\n",
      "***\n",
      "**\n",
      "*\n"
     ]
    }
   ],
   "source": [
    "for i in range(1, star) :\n",
    "    \n",
    "    for j in range(1, star-i + 1 ) :\n",
    "        \n",
    "        print('*', end= '')\n",
    "    \n",
    "    print()\n",
    "    "
   ]
  },
  {
   "cell_type": "code",
   "execution_count": 46,
   "id": "7809ce64",
   "metadata": {},
   "outputs": [
    {
     "data": {
      "text/plain": [
       "'\\n    *\\n   ***\\n  *****\\n *******\\n*********\\n\\n내부반복문을 공백을 출력하는 반복문1개, 별을 출력하는 반복문 1개\\n'"
      ]
     },
     "execution_count": 46,
     "metadata": {},
     "output_type": "execute_result"
    }
   ],
   "source": [
    "'''\n",
    "    *\n",
    "   ***\n",
    "  *****\n",
    " *******\n",
    "*********\n",
    "\n",
    "내부반복문을 공백을 출력하는 반복문1개, 별을 출력하는 반복문 1개\n",
    "'''"
   ]
  },
  {
   "cell_type": "code",
   "execution_count": 60,
   "id": "4f055fec",
   "metadata": {},
   "outputs": [
    {
     "name": "stdout",
     "output_type": "stream",
     "text": [
      "    *\n",
      "   ***\n",
      "  *****\n",
      " *******\n",
      "*********\n"
     ]
    }
   ],
   "source": [
    "for i in range(1, star) :\n",
    "    \n",
    "    for j in range(1, star - i) : # 공백을 출력\n",
    "        print(' ', end = '')\n",
    "    \n",
    "    for j in range(1, i*2) : # 별을 출력\n",
    "        print('*', end = '')\n",
    "    \n",
    "    print()\n",
    "    "
   ]
  },
  {
   "cell_type": "code",
   "execution_count": null,
   "id": "2732f84d",
   "metadata": {},
   "outputs": [],
   "source": []
  },
  {
   "cell_type": "code",
   "execution_count": null,
   "id": "30be1655",
   "metadata": {},
   "outputs": [],
   "source": []
  }
 ],
 "metadata": {
  "kernelspec": {
   "display_name": "Python 3 (ipykernel)",
   "language": "python",
   "name": "python3"
  },
  "language_info": {
   "codemirror_mode": {
    "name": "ipython",
    "version": 3
   },
   "file_extension": ".py",
   "mimetype": "text/x-python",
   "name": "python",
   "nbconvert_exporter": "python",
   "pygments_lexer": "ipython3",
   "version": "3.11.5"
  }
 },
 "nbformat": 4,
 "nbformat_minor": 5
}
