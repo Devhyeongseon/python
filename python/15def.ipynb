{
 "cells": [
  {
   "cell_type": "markdown",
   "id": "f2ac2595",
   "metadata": {},
   "source": [
    "#### 함수\n",
    "- 반복되는 프로그램 코드에 묶어 놓은 것\n",
    "\n",
    "> def 함수명() :\n",
    "- 함수를 정의했다면, 사용하는 과정은 호출이라고 합니다.\n",
    "- 함수를 호출하려면, 호출문보다는 상단부에 정의가 되어있어야 합니다.\n"
   ]
  },
  {
   "cell_type": "code",
   "execution_count": 6,
   "id": "c2b06d07",
   "metadata": {},
   "outputs": [],
   "source": [
    "# 함수의 정의\n",
    "def calc() :\n",
    "    # 1~10까지 합\n",
    "    sum_ = 0\n",
    "\n",
    "    for i in range(1, 11) :\n",
    "        sum_ += i\n",
    "\n",
    "    print('합계:', sum_)      \n",
    "    "
   ]
  },
  {
   "cell_type": "code",
   "execution_count": 9,
   "id": "4e766294",
   "metadata": {},
   "outputs": [
    {
     "name": "stdout",
     "output_type": "stream",
     "text": [
      "합계: 55\n",
      "합계: 55\n",
      "합계: 55\n",
      "합계: 55\n",
      "합계: 55\n"
     ]
    }
   ],
   "source": [
    "# 함수의 호출 (재사용이 가능)\n",
    "calc()\n",
    "calc()\n",
    "calc()\n",
    "calc()\n",
    "calc()"
   ]
  },
  {
   "cell_type": "markdown",
   "id": "424d9cf0",
   "metadata": {},
   "source": [
    "#### 매개변수 \n",
    "- 함수가 전달받는 인자값"
   ]
  },
  {
   "cell_type": "code",
   "execution_count": 9,
   "id": "f7085533",
   "metadata": {},
   "outputs": [],
   "source": [
    "# 어떤 값을 전달받아서, 그 값까지의 합계를 구하는 함수\n",
    "def calc2(x) :\n",
    "    \n",
    "    sum_ = 0\n",
    "    \n",
    "    for i in range(1, x+1) :\n",
    "        sum_ += i\n",
    "    \n",
    "    print('합계:', sum_)\n",
    "    \n"
   ]
  },
  {
   "cell_type": "code",
   "execution_count": 12,
   "id": "fcf880fc",
   "metadata": {},
   "outputs": [
    {
     "name": "stdout",
     "output_type": "stream",
     "text": [
      "합계: 55\n",
      "합계: 5050\n",
      "합계: 500500\n"
     ]
    }
   ],
   "source": [
    "calc2(10)\n",
    "calc2(100)\n",
    "calc2(1000)"
   ]
  },
  {
   "cell_type": "markdown",
   "id": "70b712a3",
   "metadata": {},
   "source": [
    "#### 함수의 리턴(return)\n",
    "\n",
    "- 함수를 호출했을 때, 호출문장으로 돌려주는 값\n",
    "- 있을 수도 있고, 없을수도 있습니다\n",
    "\n"
   ]
  },
  {
   "cell_type": "code",
   "execution_count": 15,
   "id": "8e06038b",
   "metadata": {},
   "outputs": [],
   "source": [
    "# 매개변수 2개 받아서, 두 수의 합을 돌려주는(return) 함수\n",
    "\n",
    "def my_add(a, b) :\n",
    "    \n",
    "    result = a + b\n",
    "    \n",
    "    return result # 이 값은 함수의 호출문장으로 돌아갑니다\n",
    "    "
   ]
  },
  {
   "cell_type": "code",
   "execution_count": 22,
   "id": "e5ffd0d3",
   "metadata": {},
   "outputs": [
    {
     "name": "stdout",
     "output_type": "stream",
     "text": [
      "3\n",
      "30\n",
      "300\n"
     ]
    }
   ],
   "source": [
    "print( my_add(1, 2)  )\n",
    "print( my_add(10, 20)  )\n",
    "\n",
    "a = my_add(100, 200)\n",
    "print(a)\n"
   ]
  },
  {
   "cell_type": "code",
   "execution_count": 25,
   "id": "ad273976",
   "metadata": {},
   "outputs": [],
   "source": [
    "# len함수 따라만들기\n",
    "\n",
    "def length(a) : # a는 리스트일것이다\n",
    "    \n",
    "    cnt = 0\n",
    "    for i in a : \n",
    "        cnt+=1 \n",
    "    \n",
    "    return cnt\n",
    "\n"
   ]
  },
  {
   "cell_type": "code",
   "execution_count": 27,
   "id": "dbb88a24",
   "metadata": {},
   "outputs": [
    {
     "name": "stdout",
     "output_type": "stream",
     "text": [
      "공통내장함수: 3\n",
      "내가만든함수: 3\n"
     ]
    }
   ],
   "source": [
    "print('공통내장함수:' ,  len([1,2,3])   ) # 3\n",
    "print('내가만든함수:',  length([1,2,3])   ) # 3\n"
   ]
  },
  {
   "cell_type": "code",
   "execution_count": 41,
   "id": "86991a82",
   "metadata": {},
   "outputs": [],
   "source": [
    "## 리턴의 다양한 모형 - 리턴값은 무엇이든 될 수 있습니다.\n",
    "\n",
    "## 리턴은 두번째 의미 - 함수의 종료\n",
    "## 리턴 이후에는 실행될 문장을 적지 않습니다\n",
    "\n",
    "\n",
    "def operation(a, b) :\n",
    "    # 리스트 or 튜플 or 사전 들도 반환이 됩니다.\n",
    "    x = a + b, a - b , a * b, a / b # 튜플\n",
    "    return x\n",
    "    # print('이 문장은 실행되나?') \n"
   ]
  },
  {
   "cell_type": "code",
   "execution_count": 42,
   "id": "3c429cb0",
   "metadata": {},
   "outputs": [
    {
     "data": {
      "text/plain": [
       "(3, -1, 2, 0.5)"
      ]
     },
     "execution_count": 42,
     "metadata": {},
     "output_type": "execute_result"
    }
   ],
   "source": [
    "operation(1, 2)"
   ]
  },
  {
   "cell_type": "code",
   "execution_count": 47,
   "id": "5cc69cce",
   "metadata": {},
   "outputs": [],
   "source": [
    "# return은 반드시 하나여야 하는데, if문장에서는 return 키워드를 적절하게 사용가능합니다.\n",
    "\n",
    "# 조건에 따라서 다른값을 반환 - 항상 큰 숫자에서 뺄셈\n",
    "def sum_(a, b) :\n",
    "    \n",
    "    '''\n",
    "    result = 0\n",
    "    if a > b :\n",
    "        result = a - b\n",
    "    else :\n",
    "        result = b - a\n",
    "    return result\n",
    "    '''\n",
    "    if a > b :\n",
    "        return a - b # 함수의 종료\n",
    "    else :\n",
    "        return b - a # 함수의 종료\n",
    "    "
   ]
  },
  {
   "cell_type": "code",
   "execution_count": 48,
   "id": "53ff3714",
   "metadata": {},
   "outputs": [
    {
     "name": "stdout",
     "output_type": "stream",
     "text": [
      "9\n",
      "9\n"
     ]
    }
   ],
   "source": [
    "print( sum_(10, 1) )\n",
    "print( sum_(1, 10) )"
   ]
  },
  {
   "cell_type": "markdown",
   "id": "bb281a31",
   "metadata": {},
   "source": [
    "#### 실습\n",
    "1. 자연수 n을 매개변수로 받아서, n의 약수의 합을 반환하는 함수\n",
    "나머지 0일때만 합계를 구함\n",
    "n % 1 == 0\n",
    "n % 2 == 0\n",
    "n % 3 == 0\n",
    "n % n == 0 \n",
    "\n",
    "2. 자연수 2개를 매개변수로 받아서, 두 수 사이의 합계를 반환하는 함수\n",
    "3. 자연수 n을 받아서 약수를 리스트로 반환하는 함수\n"
   ]
  },
  {
   "cell_type": "code",
   "execution_count": 58,
   "id": "046a1f8b",
   "metadata": {},
   "outputs": [],
   "source": [
    "# \n",
    "\n",
    "\n",
    "name = '홍길동'\n",
    "\n",
    "\n",
    "def aaa(a) :\n",
    "    \n",
    "    sum_ = 0\n",
    "    for i in range(1, a+1) :\n",
    "        if a % i == 0 : \n",
    "            sum_ += i\n",
    "    \n",
    "    return sum_\n",
    "\n",
    "\n",
    "\n",
    "\n"
   ]
  },
  {
   "cell_type": "code",
   "execution_count": 57,
   "id": "ba499d75",
   "metadata": {},
   "outputs": [
    {
     "data": {
      "text/plain": [
       "18"
      ]
     },
     "execution_count": 57,
     "metadata": {},
     "output_type": "execute_result"
    }
   ],
   "source": [
    "aaa(10) # 1, 2, 5, 10"
   ]
  },
  {
   "cell_type": "code",
   "execution_count": null,
   "id": "4473f0ea",
   "metadata": {},
   "outputs": [],
   "source": []
  },
  {
   "cell_type": "code",
   "execution_count": null,
   "id": "559c7964",
   "metadata": {},
   "outputs": [],
   "source": []
  },
  {
   "cell_type": "code",
   "execution_count": null,
   "id": "2c38324e",
   "metadata": {},
   "outputs": [],
   "source": []
  }
 ],
 "metadata": {
  "kernelspec": {
   "display_name": "Python 3 (ipykernel)",
   "language": "python",
   "name": "python3"
  },
  "language_info": {
   "codemirror_mode": {
    "name": "ipython",
    "version": 3
   },
   "file_extension": ".py",
   "mimetype": "text/x-python",
   "name": "python",
   "nbconvert_exporter": "python",
   "pygments_lexer": "ipython3",
   "version": "3.11.5"
  }
 },
 "nbformat": 4,
 "nbformat_minor": 5
}
