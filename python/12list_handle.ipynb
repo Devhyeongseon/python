{
 "cells": [
  {
   "cell_type": "markdown",
   "id": "f967a689",
   "metadata": {},
   "source": [
    "#### 리스트의 함수들"
   ]
  },
  {
   "cell_type": "code",
   "execution_count": 9,
   "id": "143ab5f4",
   "metadata": {},
   "outputs": [
    {
     "data": {
      "text/plain": [
       "True"
      ]
     },
     "execution_count": 9,
     "metadata": {},
     "output_type": "execute_result"
    }
   ],
   "source": [
    "points = [99, 17, 87, 100, 55, 100, 99, 100, 22]\n",
    "\n",
    "# 탐색과 정렬\n",
    "# index - 해당값을 찾아서 발견한 인덱스를 반환\n",
    "\n",
    "# points.index(2) # 찾는 값이없으면 에러\n",
    "points.index(55) # 4번째 인덱스에 있음\n",
    "points.index(100) # 가장 처음 탐색되는 값 3\n",
    "points.index(100, 4) # 100을 찾는데, 4번째 인덱스부터 탐색\n",
    "\n",
    "# count - 빈도수 확인\n",
    "points.count(100) # 100은 3개 있습니다\n",
    "\n",
    "# in 문장\n",
    "101 in points # 있다면 True반환, 없으면 False\n",
    "100 in points"
   ]
  },
  {
   "cell_type": "code",
   "execution_count": 17,
   "id": "5cccc08d",
   "metadata": {},
   "outputs": [
    {
     "name": "stdout",
     "output_type": "stream",
     "text": [
      "[17, 22, 55, 87, 99, 99, 100, 100, 100]\n",
      "[100, 100, 100, 99, 99, 87, 55, 22, 17]\n",
      "[17, 22, 55, 87, 99, 99, 100, 100, 100]\n"
     ]
    }
   ],
   "source": [
    "# sort정렬, reverse\n",
    "\n",
    "points.sort() # 리스트 자체값이 정렬됨\n",
    "\n",
    "print( points )\n",
    "\n",
    "# 내림차순정렬\n",
    "points.sort( reverse = True  )\n",
    "\n",
    "print( points  )\n",
    "\n",
    "# 거꾸로\n",
    "points.reverse()\n",
    "print( points )\n"
   ]
  },
  {
   "cell_type": "code",
   "execution_count": 34,
   "id": "2b3c0ff2",
   "metadata": {},
   "outputs": [
    {
     "data": {
      "text/plain": [
       "[1, 2, 3, 100, 4, 100]"
      ]
     },
     "execution_count": 34,
     "metadata": {},
     "output_type": "execute_result"
    }
   ],
   "source": [
    "# 리스트에 값을 추가 insert, append\n",
    "\n",
    "nums = [1,2,3,4]\n",
    "nums.append(100) # 끝에 추가\n",
    "\n",
    "nums\n",
    "\n",
    "nums.insert(3, 100) # 3번째 인덱스, 100추가\n",
    "\n",
    "nums"
   ]
  },
  {
   "cell_type": "code",
   "execution_count": 35,
   "id": "26906031",
   "metadata": {},
   "outputs": [
    {
     "data": {
      "text/plain": [
       "[1, 2, 3, 4, 100]"
      ]
     },
     "execution_count": 35,
     "metadata": {},
     "output_type": "execute_result"
    }
   ],
   "source": [
    "# 삭제 remove, 공용함수 del, clear, pop\n",
    "nums.remove(100) # 첫번째 발견되는 100을 삭제\n",
    "nums"
   ]
  },
  {
   "cell_type": "code",
   "execution_count": 40,
   "id": "6760eb54",
   "metadata": {},
   "outputs": [
    {
     "data": {
      "text/plain": [
       "[]"
      ]
     },
     "execution_count": 40,
     "metadata": {},
     "output_type": "execute_result"
    }
   ],
   "source": [
    "# del은 인덱스 번호로 삭제\n",
    "del( nums[0] ) \n",
    "nums"
   ]
  },
  {
   "cell_type": "code",
   "execution_count": 47,
   "id": "62331d2b",
   "metadata": {},
   "outputs": [
    {
     "data": {
      "text/plain": [
       "[]"
      ]
     },
     "execution_count": 47,
     "metadata": {},
     "output_type": "execute_result"
    }
   ],
   "source": [
    "# clear는 리스트를 비웁니다.\n",
    "nums = [1,2,3,4]\n",
    "nums\n",
    "\n",
    "nums.clear()\n",
    "nums"
   ]
  },
  {
   "cell_type": "markdown",
   "id": "5b5d6efa",
   "metadata": {},
   "source": [
    "#### 실습\n",
    "\n",
    "1. 빈리스트를 생성합니다.\n",
    "2. 사용자가 '그만' 이라고 입력할 때 까지 음식이름을 입력받으세요.\n",
    "3. 입력이 종료되면 여태까지 받았던 음식 이름이 리스트에 저장되게 해주세요."
   ]
  },
  {
   "cell_type": "code",
   "execution_count": 50,
   "id": "37147433",
   "metadata": {},
   "outputs": [
    {
     "name": "stdout",
     "output_type": "stream",
     "text": [
      "#먹고 싶은 음식을 입력하세요>\n",
      "#그만 입력하려면 '그만'이라고 쓰세요\n",
      ">햄버거\n",
      ">피자\n",
      ">그만\n",
      "내가 먹고싶은 음식: ['햄버거', '피자']\n"
     ]
    }
   ],
   "source": [
    "print(\"#먹고 싶은 음식을 입력하세요>\")\n",
    "print(\"#그만 입력하려면 '그만'이라고 쓰세요\")\n",
    "foods = []\n",
    "\n",
    "while True :\n",
    "    \n",
    "    a = input('>')  \n",
    "   \n",
    "    if a == '그만' : # 그만 입력시 탈출\n",
    "        break\n",
    "    \n",
    "    foods.append(a)\n",
    "\n",
    "print('내가 먹고싶은 음식:' , foods)"
   ]
  },
  {
   "cell_type": "markdown",
   "id": "aee5b830",
   "metadata": {},
   "source": [
    "#### 실습\n",
    "\n",
    "- 리스트를 이용한 간략한 연락처 관리 프로그램코드"
   ]
  },
  {
   "cell_type": "code",
   "execution_count": 3,
   "id": "246f5e8a",
   "metadata": {},
   "outputs": [
    {
     "name": "stdout",
     "output_type": "stream",
     "text": [
      "---------연락처 관리(메뉴)----------\n",
      "1. 연락처등록\n",
      "2. 연락처검색\n",
      "3. 연락처삭제\n",
      "4. 모든연락처 조회\n",
      "5. 종료\n",
      "------------------------------------\n",
      "메뉴번호>4\n"
     ]
    },
    {
     "ename": "IndexError",
     "evalue": "list index out of range",
     "output_type": "error",
     "traceback": [
      "\u001b[1;31m---------------------------------------------------------------------------\u001b[0m",
      "\u001b[1;31mIndexError\u001b[0m                                Traceback (most recent call last)",
      "Cell \u001b[1;32mIn[3], line 83\u001b[0m\n\u001b[0;32m     74\u001b[0m \u001b[38;5;28;01melif\u001b[39;00m menu \u001b[38;5;241m==\u001b[39m \u001b[38;5;124m'\u001b[39m\u001b[38;5;124m4\u001b[39m\u001b[38;5;124m'\u001b[39m :\n\u001b[0;32m     75\u001b[0m     \u001b[38;5;66;03m# pass\u001b[39;00m\n\u001b[0;32m     76\u001b[0m     \n\u001b[0;32m     77\u001b[0m     \u001b[38;5;66;03m# for문을 이용해서 리스트의 이름과 연락처를 모두 출력\u001b[39;00m\n\u001b[0;32m     78\u001b[0m     \u001b[38;5;66;03m# 예시) 홍길동: 010-1234-5678\u001b[39;00m\n\u001b[0;32m     79\u001b[0m     \u001b[38;5;66;03m#       이순신: 010-1111-2222\u001b[39;00m\n\u001b[0;32m     81\u001b[0m     \u001b[38;5;28;01mfor\u001b[39;00m i \u001b[38;5;129;01min\u001b[39;00m \u001b[38;5;28mrange\u001b[39m(\u001b[38;5;241m0\u001b[39m, \u001b[38;5;28mlen\u001b[39m(name_list) \u001b[38;5;241m+\u001b[39m \u001b[38;5;241m1\u001b[39m ) : \u001b[38;5;66;03m# i는 list의 인덱스 번호\u001b[39;00m\n\u001b[1;32m---> 83\u001b[0m         \u001b[38;5;28mprint\u001b[39m(\u001b[38;5;124mf\u001b[39m\u001b[38;5;124m'\u001b[39m\u001b[38;5;132;01m{\u001b[39;00mname_list[i]\u001b[38;5;250m \u001b[39m\u001b[38;5;132;01m}\u001b[39;00m\u001b[38;5;124m: \u001b[39m\u001b[38;5;132;01m{\u001b[39;00mphone_list[i]\u001b[38;5;132;01m}\u001b[39;00m\u001b[38;5;124m'\u001b[39m) \u001b[38;5;66;03m# 인덱스번째 값 출력\u001b[39;00m\n\u001b[0;32m     85\u001b[0m \u001b[38;5;28;01melif\u001b[39;00m menu \u001b[38;5;241m==\u001b[39m \u001b[38;5;124m'\u001b[39m\u001b[38;5;124m5\u001b[39m\u001b[38;5;124m'\u001b[39m :\n\u001b[0;32m     86\u001b[0m     \u001b[38;5;66;03m# pass\u001b[39;00m\n\u001b[0;32m     87\u001b[0m     \u001b[38;5;66;03m# 프로그램 종료하므로 탈출하면 됩니다.\u001b[39;00m\n\u001b[0;32m     88\u001b[0m     \u001b[38;5;28mprint\u001b[39m(\u001b[38;5;124m'\u001b[39m\u001b[38;5;124m프로그램 종료합니다\u001b[39m\u001b[38;5;124m'\u001b[39m)\n",
      "\u001b[1;31mIndexError\u001b[0m: list index out of range"
     ]
    }
   ],
   "source": [
    "name_list = [] # 이름을 저장할 리스트\n",
    "phone_list = [] # 전화번호를 저장할 리스트\n",
    "\n",
    "while True :\n",
    "    \n",
    "    print('---------연락처 관리(메뉴)----------')\n",
    "    print('1. 연락처등록')\n",
    "    print('2. 연락처검색')\n",
    "    print('3. 연락처삭제')\n",
    "    print('4. 모든연락처 조회')\n",
    "    print('5. 종료')\n",
    "    print('------------------------------------')\n",
    "    \n",
    "    # 사용자에게 메뉴를 입력받음\n",
    "    menu = input('메뉴번호>')\n",
    "    \n",
    "    # 메뉴 번호에 따라서 실행할 프로그램을 if문으로 분기\n",
    "    \n",
    "    if menu == '1' :\n",
    "        # pass # 패스는 내용이 작성되면 지우면 됩니다.\n",
    "        # 이름, 전화번호를 각각 입력받아서, 각각의 리스트에 추가하면됩니다.\n",
    "        # 완료후에는 \"xxx님 연락처 xxx번 저장완료\" 출력\n",
    "        \n",
    "        name = input('이름>')\n",
    "        phone = input('전화번호>')\n",
    "        \n",
    "        name_list.append(name)\n",
    "        phone_list.append(phone)\n",
    "        \n",
    "        print(f\"{name}님 연락처 {phone}번 저장완료\")\n",
    "        \n",
    "        \n",
    "    elif menu == '2' :\n",
    "        # pass\n",
    "    \n",
    "        # 사용자에게 연락처를 검색할 이름을 입력받음\n",
    "        # index() 를 이용해서 사용자의 위치를 확인한 다음에 phone_list에서 전화번호를 출력\n",
    "        # 출력예시 : \"홍길동의 전화번호 xxxx-xxxx\"\n",
    "        # 없는 이름이라면 \"연락처에 없습니다\" 를 출력. (조건문에서 in )\n",
    "        # \n",
    "    \n",
    "        name = input('검색할 이름>')\n",
    "        \n",
    "        if name in name_list : # 있다면 True, 없다면 False\n",
    "        \n",
    "            idx = name_list.index(name) # name이 있는 위치\n",
    "            print(f'{name} 님의 전화번호 {phone_list[idx] }')\n",
    "        \n",
    "        else : # 없는 경우\n",
    "            print('연락처에 없습니다')\n",
    "        \n",
    "    \n",
    "    elif menu == '3' :\n",
    "        pass\n",
    "        \n",
    "        # 삭제할 이름을 입력받아서, 이름과 전화번호를 삭제해 주면 됩니다.\n",
    "        # 마찬가지로 없는 이름이라면 \"연락처에 없습니다\" 를 출력.\n",
    "        \n",
    "        # 삭제 remove(값), del(인덱스)\n",
    "        \n",
    "        name = input('삭제할 이름>')\n",
    "        \n",
    "        if name in name_list :\n",
    "            \n",
    "            idx = name_list.index(name) # name이 있는 위치\n",
    "            \n",
    "            # name_list.remove(name) # name_list에서 값을 지움\n",
    "            del( name_list[idx] ) # name_list에서 index번째를 삭제\n",
    "            del( phone_list[idx] ) # phone_list에서 index번째를 삭제\n",
    "            \n",
    "        else :\n",
    "            print('연락처에 없습니다')       \n",
    "        \n",
    "    elif menu == '4' :\n",
    "        # pass\n",
    "        \n",
    "        # for문을 이용해서 리스트의 이름과 연락처를 모두 출력\n",
    "        # 예시) 홍길동: 010-1234-5678\n",
    "        #       이순신: 010-1111-2222\n",
    "    \n",
    "        for i in range(0, len(name_list) ) : # i는 list의 인덱스 번호\n",
    "            \n",
    "            print(f'{name_list[i] }: {phone_list[i]}') # 인덱스번째 값 출력\n",
    "          \n",
    "    elif menu == '5' :\n",
    "        # pass\n",
    "        # 프로그램 종료하므로 탈출하면 됩니다.\n",
    "        print('프로그램 종료합니다')\n",
    "        break #\n",
    "        \n",
    "        \n",
    "    else :\n",
    "        print('잘못된 메뉴를 입력했습니다.')\n",
    "\n"
   ]
  },
  {
   "cell_type": "code",
   "execution_count": null,
   "id": "3e658a51",
   "metadata": {},
   "outputs": [],
   "source": []
  },
  {
   "cell_type": "code",
   "execution_count": null,
   "id": "7fe7a993",
   "metadata": {},
   "outputs": [],
   "source": []
  },
  {
   "cell_type": "code",
   "execution_count": null,
   "id": "b899e219",
   "metadata": {},
   "outputs": [],
   "source": []
  },
  {
   "cell_type": "code",
   "execution_count": null,
   "id": "9e204eca",
   "metadata": {},
   "outputs": [],
   "source": []
  },
  {
   "cell_type": "code",
   "execution_count": null,
   "id": "220b245d",
   "metadata": {},
   "outputs": [],
   "source": []
  },
  {
   "cell_type": "code",
   "execution_count": null,
   "id": "b7d96964",
   "metadata": {},
   "outputs": [],
   "source": []
  },
  {
   "cell_type": "code",
   "execution_count": null,
   "id": "bae79555",
   "metadata": {},
   "outputs": [],
   "source": []
  },
  {
   "cell_type": "code",
   "execution_count": null,
   "id": "170ce946",
   "metadata": {},
   "outputs": [],
   "source": []
  },
  {
   "cell_type": "code",
   "execution_count": null,
   "id": "56b2aef0",
   "metadata": {},
   "outputs": [],
   "source": []
  }
 ],
 "metadata": {
  "kernelspec": {
   "display_name": "Python 3 (ipykernel)",
   "language": "python",
   "name": "python3"
  },
  "language_info": {
   "codemirror_mode": {
    "name": "ipython",
    "version": 3
   },
   "file_extension": ".py",
   "mimetype": "text/x-python",
   "name": "python",
   "nbconvert_exporter": "python",
   "pygments_lexer": "ipython3",
   "version": "3.11.5"
  }
 },
 "nbformat": 4,
 "nbformat_minor": 5
}
