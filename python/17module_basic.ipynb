{
 "cells": [
  {
   "cell_type": "markdown",
   "id": "ee6263ef",
   "metadata": {},
   "source": [
    "#### 모듈\n",
    "\n",
    "- 모듈이란, 파이썬에 미리 만들어져 있는 스크립트 파일\n",
    "\n",
    "- import 모듈명 을 사용합니다"
   ]
  },
  {
   "cell_type": "code",
   "execution_count": 3,
   "id": "3f01c6b1",
   "metadata": {},
   "outputs": [
    {
     "data": {
      "text/plain": [
       "'Tue Oct 24 15:20:53 2023'"
      ]
     },
     "execution_count": 3,
     "metadata": {},
     "output_type": "execute_result"
    }
   ],
   "source": [
    "import time\n",
    "\n",
    "# 모듈안에 기능을 사용할 때는 . 으로 사용합니다\n",
    "result = time.ctime() # shift + tab\n",
    "\n",
    "result\n"
   ]
  },
  {
   "cell_type": "code",
   "execution_count": 9,
   "id": "b9718e5f",
   "metadata": {},
   "outputs": [
    {
     "data": {
      "text/plain": [
       "0.3010299956639812"
      ]
     },
     "execution_count": 9,
     "metadata": {},
     "output_type": "execute_result"
    }
   ],
   "source": [
    "import math\n",
    "\n",
    "math.ceil(3.14) # 올림\n",
    "\n",
    "math.sqrt(4) # 루트\n",
    "\n",
    "math.floor(3.14) # 내림\n",
    "\n",
    "math.log10(2)\n"
   ]
  },
  {
   "cell_type": "code",
   "execution_count": 13,
   "id": "4657cef9",
   "metadata": {},
   "outputs": [
    {
     "data": {
      "text/plain": [
       "2.0"
      ]
     },
     "execution_count": 13,
     "metadata": {},
     "output_type": "execute_result"
    }
   ],
   "source": [
    "# 모듈 가져오기 방법 2 - math모듈에서 ceil, floor, sqrt 를 가져옴\n",
    "from math import ceil, floor, sqrt \n",
    "\n",
    "# 직접 함수를 가져온 문장이기 때문에 함수명() 곧바로 사용가능\n",
    "ceil(3.14)\n",
    "floor(3.14)\n",
    "sqrt(4)\n"
   ]
  },
  {
   "cell_type": "code",
   "execution_count": 15,
   "id": "a43eaa86",
   "metadata": {},
   "outputs": [
    {
     "data": {
      "text/plain": [
       "'Tue Oct 24 15:31:03 2023'"
      ]
     },
     "execution_count": 15,
     "metadata": {},
     "output_type": "execute_result"
    }
   ],
   "source": [
    "# 모듈 가져오기 방법 2 별칭짓기 - ctime함수의 별칭을 c로 사용\n",
    "from time import ctime as c\n",
    "\n",
    "c() \n"
   ]
  },
  {
   "cell_type": "code",
   "execution_count": 59,
   "id": "2aff0e31",
   "metadata": {},
   "outputs": [
    {
     "data": {
      "text/plain": [
       "0.6076443367091144"
      ]
     },
     "execution_count": 59,
     "metadata": {},
     "output_type": "execute_result"
    }
   ],
   "source": [
    "# 모듈 가져오기 방법 3 - 모듈에 별칭 붙이기\n",
    "\n",
    "# random 모듈을 r 별칭으로 가져오기\n",
    "import random as r \n",
    "\n",
    "r.random()\n"
   ]
  },
  {
   "cell_type": "code",
   "execution_count": 68,
   "id": "30731b5f",
   "metadata": {},
   "outputs": [],
   "source": [
    "import pandas as pd\n",
    "\n",
    "data = {\n",
    "    '이름' : ['홍길동', '이순신'],\n",
    "    '나이' : [10, 20],\n",
    "    '점수' : [100, 90]\n",
    "}\n",
    "\n",
    "\n",
    "a = pd.DataFrame(data)\n",
    "\n"
   ]
  },
  {
   "cell_type": "code",
   "execution_count": null,
   "id": "202459c9",
   "metadata": {},
   "outputs": [],
   "source": []
  },
  {
   "cell_type": "code",
   "execution_count": null,
   "id": "3e91fe49",
   "metadata": {},
   "outputs": [],
   "source": []
  },
  {
   "cell_type": "code",
   "execution_count": null,
   "id": "b59ceed0",
   "metadata": {},
   "outputs": [],
   "source": []
  }
 ],
 "metadata": {
  "kernelspec": {
   "display_name": "Python 3 (ipykernel)",
   "language": "python",
   "name": "python3"
  },
  "language_info": {
   "codemirror_mode": {
    "name": "ipython",
    "version": 3
   },
   "file_extension": ".py",
   "mimetype": "text/x-python",
   "name": "python",
   "nbconvert_exporter": "python",
   "pygments_lexer": "ipython3",
   "version": "3.11.5"
  }
 },
 "nbformat": 4,
 "nbformat_minor": 5
}
