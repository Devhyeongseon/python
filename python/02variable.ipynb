{
 "cells": [
  {
   "cell_type": "markdown",
   "id": "b998199f",
   "metadata": {},
   "source": [
    "#### 변수"
   ]
  },
  {
   "cell_type": "code",
   "execution_count": 1,
   "id": "527686c2",
   "metadata": {},
   "outputs": [
    {
     "data": {
      "text/plain": [
       "100"
      ]
     },
     "execution_count": 1,
     "metadata": {},
     "output_type": "execute_result"
    }
   ],
   "source": [
    "a = 10 # 변수의 선언\n",
    "a\n",
    "\n",
    "a = 100 # 값의 변경\n",
    "a\n"
   ]
  },
  {
   "cell_type": "code",
   "execution_count": 2,
   "id": "26cfec44",
   "metadata": {},
   "outputs": [
    {
     "data": {
      "text/plain": [
       "300"
      ]
     },
     "execution_count": 2,
     "metadata": {},
     "output_type": "execute_result"
    }
   ],
   "source": [
    "b = 200\n",
    "b\n",
    "\n",
    "result = a + b # 변수에는 다른 변수의 값을 저장할 수도 있습니다.\n",
    "result"
   ]
  },
  {
   "cell_type": "code",
   "execution_count": 3,
   "id": "4829120c",
   "metadata": {},
   "outputs": [
    {
     "data": {
      "text/plain": [
       "'홍길동'"
      ]
     },
     "execution_count": 3,
     "metadata": {},
     "output_type": "execute_result"
    }
   ],
   "source": [
    "# print(c) # 선언되지 않은 변수는 사용할 수 없습니다.\n",
    "c = '홍길동' # 문자의 표현은 \"\" 혹은 ''로 합니다.\n",
    "c"
   ]
  },
  {
   "cell_type": "code",
   "execution_count": 4,
   "id": "682baa31",
   "metadata": {},
   "outputs": [],
   "source": [
    "# c 변수를 5로 변경해서 \n",
    "# a b c result 를 더한 값을 result에 저장한다"
   ]
  },
  {
   "cell_type": "code",
   "execution_count": 5,
   "id": "abbf613e",
   "metadata": {},
   "outputs": [
    {
     "data": {
      "text/plain": [
       "605"
      ]
     },
     "execution_count": 5,
     "metadata": {},
     "output_type": "execute_result"
    }
   ],
   "source": [
    "c = 5\n",
    "result = a + b + c + result\n",
    "\n",
    "result"
   ]
  },
  {
   "cell_type": "markdown",
   "id": "e751a0e0",
   "metadata": {},
   "source": [
    "#### 변수의 식별자(이름짓는 규칙)"
   ]
  },
  {
   "cell_type": "code",
   "execution_count": 6,
   "id": "71ac513f",
   "metadata": {},
   "outputs": [
    {
     "name": "stdout",
     "output_type": "stream",
     "text": [
      "사과\n",
      "싸과\n",
      "미안\n"
     ]
    }
   ],
   "source": [
    "# 1a = 100 숫자로 시작할 수 없음\n",
    "a1 = 100\n",
    "a2 = 200\n",
    "\n",
    "apple = '사과'\n",
    "Apple = '싸과'\n",
    "applE = '미안'\n",
    "\n",
    "print(apple)\n",
    "print(Apple)\n",
    "print(applE) # 대소문자를 전부 구분함\n",
    "\n",
    "my_birth = 20000817 # 공백은 _ 대체됩니다.\n"
   ]
  },
  {
   "cell_type": "code",
   "execution_count": 8,
   "id": "8c5f4fcd",
   "metadata": {},
   "outputs": [
    {
     "name": "stdout",
     "output_type": "stream",
     "text": [
      "1\n"
     ]
    }
   ],
   "source": [
    "# 파이썬에 이미 지정된 기능을 변수처럼 사용할 순 있지만, \n",
    "# print()출력문을 사용하지 못하게 됩니다\n",
    "\n",
    "# print = '값을 저장'\n",
    "# print\n",
    "# print(apple)\n",
    "\n",
    "print(1)"
   ]
  },
  {
   "cell_type": "markdown",
   "id": "0b5d597e",
   "metadata": {},
   "source": [
    "#### 데이터 타입\n",
    "int  \n",
    "float  \n",
    "string  \n",
    "bool  "
   ]
  },
  {
   "cell_type": "code",
   "execution_count": 17,
   "id": "6f4b5870",
   "metadata": {},
   "outputs": [
    {
     "data": {
      "text/plain": [
       "bool"
      ]
     },
     "execution_count": 17,
     "metadata": {},
     "output_type": "execute_result"
    }
   ],
   "source": [
    "a = 100\n",
    "b = 3.14\n",
    "c = '홍길동'\n",
    "d = True\n",
    "\n",
    "type(a) # int 정수형\n",
    "type(b) # float 실수형\n",
    "type(c) # string 문자형\n",
    "type(d) # bool 논리형"
   ]
  },
  {
   "cell_type": "code",
   "execution_count": 32,
   "id": "f2ec77e1",
   "metadata": {},
   "outputs": [
    {
     "name": "stdout",
     "output_type": "stream",
     "text": [
      "안녕하세요~~\n",
      "나는 너에게 \"어렵다\" 라고 말했다\n",
      "안녕?~~?\n",
      "잘가!!\n",
      "안녕?~~?\t잘가!!\n",
      "C:\\Users\\user\\Desktop\\course\n",
      "여기서 적는 글은\n",
      "\n",
      "적는 그대로 나타납니다.\n",
      "\n"
     ]
    }
   ],
   "source": [
    "s1 = \"안녕하세요~~\"\n",
    "print(s1)\n",
    "s2 = '나는 너에게 \"어렵다\" 라고 말했다'\n",
    "print(s2)\n",
    "s3 = \"나는 너에게 \\\"어렵다\\\" 라고 말했다\"\n",
    "# 쌍따옴표 안에서 \"\" 를 사용하고 싶으면 탈출문자(\\) 를 사용하면 됩니다.\n",
    "\n",
    "s4 =\"안녕?~~?\\n잘가!!\"\n",
    "print(s4)\n",
    "\n",
    "s5 =\"안녕?~~?\\t잘가!!\"\n",
    "print(s5)\n",
    "\n",
    "s6 = 'C:\\\\Users\\\\user\\\\Desktop\\\\course'\n",
    "print(s6)\n",
    "\n",
    "s7 = \"\"\"여기서 적는 글은\n",
    "\n",
    "적는 그대로 나타납니다.\n",
    "\"\"\"\n",
    "print(s7)"
   ]
  },
  {
   "cell_type": "code",
   "execution_count": null,
   "id": "e732f335",
   "metadata": {},
   "outputs": [],
   "source": []
  },
  {
   "cell_type": "code",
   "execution_count": null,
   "id": "9efa58ea",
   "metadata": {},
   "outputs": [],
   "source": []
  },
  {
   "cell_type": "code",
   "execution_count": null,
   "id": "6144e31c",
   "metadata": {},
   "outputs": [],
   "source": []
  },
  {
   "cell_type": "code",
   "execution_count": null,
   "id": "8f8781c7",
   "metadata": {},
   "outputs": [],
   "source": []
  }
 ],
 "metadata": {
  "kernelspec": {
   "display_name": "Python 3 (ipykernel)",
   "language": "python",
   "name": "python3"
  },
  "language_info": {
   "codemirror_mode": {
    "name": "ipython",
    "version": 3
   },
   "file_extension": ".py",
   "mimetype": "text/x-python",
   "name": "python",
   "nbconvert_exporter": "python",
   "pygments_lexer": "ipython3",
   "version": "3.11.5"
  }
 },
 "nbformat": 4,
 "nbformat_minor": 5
}
