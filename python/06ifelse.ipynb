{
 "cells": [
  {
   "cell_type": "code",
   "execution_count": 8,
   "id": "d0d72c28",
   "metadata": {},
   "outputs": [
    {
     "name": "stdout",
     "output_type": "stream",
     "text": [
      "사과는 0개 이하입니다\n",
      "배가고프네요\n",
      "프로그램 정상종료\n"
     ]
    }
   ],
   "source": [
    "apple = -1\n",
    "\n",
    "if apple >= 0 :\n",
    "    print(f'사과는 {apple}개 있습니다')\n",
    "\n",
    "else :\n",
    "    print('사과는 0개 이하입니다')\n",
    "    print('배가고프네요')\n",
    "    \n",
    "\n",
    "print('프로그램 정상종료') # 조건문과 상관없이 무조건 실행되는 문장   "
   ]
  },
  {
   "cell_type": "code",
   "execution_count": 9,
   "id": "707acedb",
   "metadata": {},
   "outputs": [],
   "source": [
    "#### if ~ elif"
   ]
  },
  {
   "cell_type": "code",
   "execution_count": 10,
   "id": "a8066564",
   "metadata": {},
   "outputs": [
    {
     "name": "stdout",
     "output_type": "stream",
     "text": [
      "나이를 입력하세요> 3\n",
      "미취학 아동이시네요?\n"
     ]
    }
   ],
   "source": [
    "age = int( input('나이를 입력하세요> ') )\n",
    "\n",
    "if age >= 20 :\n",
    "    print('성인이군요!')\n",
    "elif age >= 17 :\n",
    "    print('고등학생이네요?')\n",
    "elif age >= 14 :\n",
    "    print('중학생이네요?')\n",
    "elif age >= 7 :\n",
    "    print('초등학생이네요?')\n",
    "else :\n",
    "    print('미취학 아동이시네요?')\n",
    "    \n",
    "    "
   ]
  },
  {
   "cell_type": "markdown",
   "id": "727dd112",
   "metadata": {},
   "source": [
    "#### 실습\n",
    "\n",
    "두 정수를 입력받아, 두 수의 대소를\n",
    "비교하는 코드르 작성합니다\n",
    "\n",
    "입력받은 순서 상관없이 큰 수를 출력하면 됩니다\n",
    "\n",
    "같은 수라면 \"x는 y와 같은수 입니다\"\n"
   ]
  },
  {
   "cell_type": "code",
   "execution_count": null,
   "id": "77a4cdb9",
   "metadata": {},
   "outputs": [],
   "source": [
    "a = int(input('수 입력> '))\n",
    "b = int(input('수 입력> '))\n",
    "\n",
    "if a > b :\n",
    "    print(f'큰 수는 {a} 입니다')\n",
    "elif b > a :\n",
    "    print(f'큰 수는 {b} 입니다')\n",
    "else :\n",
    "    print('같은 수 입니다')\n"
   ]
  },
  {
   "cell_type": "markdown",
   "id": "7f06b5d1",
   "metadata": {},
   "source": [
    "#### 실습\n",
    "정수 1개를 입력받아서, 이 숫자가 3의 배수인지 아닌지를 확인하는 조건식을 작성해보세요. \n",
    "\n",
    "힌트 - 3의 배수는 3으로 나누어 떨어진다\n"
   ]
  },
  {
   "cell_type": "code",
   "execution_count": 12,
   "id": "22d8f73b",
   "metadata": {},
   "outputs": [
    {
     "name": "stdout",
     "output_type": "stream",
     "text": [
      "수를 입력> 4\n",
      "4는 3의 배수가 아닙니다\n"
     ]
    }
   ],
   "source": [
    "c = int(input('수를 입력> ') )\n",
    "\n",
    "if c % 3 == 0 :\n",
    "    print(f'{c}는 3의 배수 입니다')\n",
    "else :\n",
    "    print(f'{c}는 3의 배수가 아닙니다')"
   ]
  },
  {
   "cell_type": "markdown",
   "id": "591aff1a",
   "metadata": {},
   "source": [
    "#### 중첩if문장\n",
    "들여쓰기"
   ]
  },
  {
   "cell_type": "code",
   "execution_count": 18,
   "id": "e0923f1f",
   "metadata": {},
   "outputs": [
    {
     "name": "stdout",
     "output_type": "stream",
     "text": [
      "신장을 입력하세요> 140\n",
      "중량를 입력하세요> 30\n",
      "몸무게 미달입니다! 놀이기구 탑승 불가능!\n",
      "------------------------------\n"
     ]
    }
   ],
   "source": [
    "# 키를 입력받음\n",
    "\n",
    "cm = int(input('신장을 입력하세요> '))\n",
    "\n",
    "if cm >= 140 :\n",
    "    \n",
    "    kg = int(input('중량를 입력하세요> '))  # if문 안에서도 필요하면 입력을 받을수 있음\n",
    "    \n",
    "    if kg >= 50 :\n",
    "        print('성공입니다! 놀이기구 탑승 가능!')\n",
    "    else :\n",
    "        print('몸무게 미달입니다! 놀이기구 탑승 불가능!')\n",
    "    \n",
    "    \n",
    "    print('-' * 30) # 바깥에 있는 if문을 실행하면 무조건 실행됨\n",
    "    \n",
    "else :\n",
    "    print('땡! 탈락입니다')\n",
    "\n"
   ]
  },
  {
   "cell_type": "markdown",
   "id": "9d70ff67",
   "metadata": {},
   "source": [
    "#### 실습\n",
    "1. point를 입력을 받습니다.\n",
    "2. point가 90점 이상인경우 A학점, 80점 이상이면 B학점, ....... 70미만인 경우는 F학점으로 조건을 분기하세요.\n",
    "\n",
    "2. point가 90점 이상인 경우는 다시한번 조건을 검사해서 95점 이상이면 A+, 이하면 A로 출력\n",
    "\n"
   ]
  },
  {
   "cell_type": "code",
   "execution_count": null,
   "id": "096b04c6",
   "metadata": {},
   "outputs": [],
   "source": [
    "point = int(input('점수입력> ') )\n",
    "\n",
    "if point >= 90:\n",
    "    \n",
    "    if point >= 95 :\n",
    "        print('A++학점')\n",
    "    else :\n",
    "        print('A학점')    \n",
    "    \n",
    "elif point >= 80:\n",
    "    print('B학점')\n",
    "elif point >= 70:\n",
    "    print('C학점')\n",
    "else :\n",
    "    print('F학점')"
   ]
  },
  {
   "cell_type": "markdown",
   "id": "c366ee40",
   "metadata": {},
   "source": [
    "#### 실습\n",
    "1. 정수 1개를 입력받습니다.\n",
    "2. 짝수 인지, 홀수 인지, 음수인지, 0인지 확인하는 조건문을 작성해보세요.\n",
    "3. 저는 양수와 음수를 먼저 구분\n",
    "\n",
    "> 짝수는 2로 나누었을 때 나머지가 0"
   ]
  },
  {
   "cell_type": "code",
   "execution_count": null,
   "id": "4442569c",
   "metadata": {},
   "outputs": [],
   "source": [
    "num = int(input('정수입력> '))\n",
    "\n",
    "if num >= 0 :\n",
    "    \n",
    "    if num == 0 : # 0인경우\n",
    "        print('0 입니다')\n",
    "    elif num % 2 == 0 : # 짝수\n",
    "        print(f'{num}은 짝수 입니다')\n",
    "    else :\n",
    "        print(f'{num}은 홀수 입니다')\n",
    "        \n",
    "else :\n",
    "    print(f'{num}은 음수 입니다')\n",
    "\n"
   ]
  },
  {
   "cell_type": "code",
   "execution_count": null,
   "id": "967abba0",
   "metadata": {},
   "outputs": [],
   "source": []
  },
  {
   "cell_type": "code",
   "execution_count": null,
   "id": "f9332063",
   "metadata": {},
   "outputs": [],
   "source": []
  },
  {
   "cell_type": "code",
   "execution_count": null,
   "id": "8bc37cc4",
   "metadata": {},
   "outputs": [],
   "source": []
  }
 ],
 "metadata": {
  "kernelspec": {
   "display_name": "Python 3 (ipykernel)",
   "language": "python",
   "name": "python3"
  },
  "language_info": {
   "codemirror_mode": {
    "name": "ipython",
    "version": 3
   },
   "file_extension": ".py",
   "mimetype": "text/x-python",
   "name": "python",
   "nbconvert_exporter": "python",
   "pygments_lexer": "ipython3",
   "version": "3.11.5"
  }
 },
 "nbformat": 4,
 "nbformat_minor": 5
}
