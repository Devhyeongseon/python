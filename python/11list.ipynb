{
 "cells": [
  {
   "cell_type": "markdown",
   "id": "82bec372",
   "metadata": {},
   "source": [
    "#### 리스트\n",
    "\n",
    "1. 여러개의 값을 한번에 저장하기 위한 파이썬의 자료형\n",
    "\n",
    "2. 리스트를 만드는방법\n",
    "    > [데이터]  \n",
    "    > list()\n"
   ]
  },
  {
   "cell_type": "code",
   "execution_count": 4,
   "id": "e07184b6",
   "metadata": {},
   "outputs": [
    {
     "name": "stdout",
     "output_type": "stream",
     "text": [
      "a\n",
      "b\n",
      "c\n",
      "d\n",
      "e\n"
     ]
    }
   ],
   "source": [
    "# 리스트를 만드는방법\n",
    "x = ['a', 'b', 'c', 'd', 'e']\n",
    "\n",
    "type(x) # 리스트\n",
    "\n",
    "for i in x : # 리스트는 순서를 가져서 반복이 가능함\n",
    "    print(i)"
   ]
  },
  {
   "cell_type": "code",
   "execution_count": 9,
   "id": "5cbf4dd6",
   "metadata": {},
   "outputs": [
    {
     "data": {
      "text/plain": [
       "[1, 2, 3, 4, 5, 6, 7, 8, 9, 10]"
      ]
     },
     "execution_count": 9,
     "metadata": {},
     "output_type": "execute_result"
    }
   ],
   "source": [
    "# 리스트를 만드는 방법\n",
    "x = list( range(1, 11)  ) # range(이상, 미만, 스탭)\n",
    "x\n",
    "\n"
   ]
  },
  {
   "cell_type": "markdown",
   "id": "709713af",
   "metadata": {},
   "source": [
    "#### 리스트의 인덱싱과 슬라이싱"
   ]
  },
  {
   "cell_type": "code",
   "execution_count": 14,
   "id": "687092aa",
   "metadata": {},
   "outputs": [
    {
     "name": "stdout",
     "output_type": "stream",
     "text": [
      "[1, 2, 3, 4, 5, 6, 7, 8, 9, 10]\n"
     ]
    },
    {
     "data": {
      "text/plain": [
       "10"
      ]
     },
     "execution_count": 14,
     "metadata": {},
     "output_type": "execute_result"
    }
   ],
   "source": [
    "print(x)\n",
    "\n",
    "x[0]\n",
    "x[1]\n",
    "x[9] # x[-1]"
   ]
  },
  {
   "cell_type": "code",
   "execution_count": 24,
   "id": "e4df0b60",
   "metadata": {},
   "outputs": [
    {
     "data": {
      "text/plain": [
       "[3, 5, 7]"
      ]
     },
     "execution_count": 24,
     "metadata": {},
     "output_type": "execute_result"
    }
   ],
   "source": [
    "# 리스트 슬라이싱\n",
    "x[0: ]\n",
    "x[2: 5]\n",
    "x[ : ] # 처음~끝\n",
    "x[2 : 8 : 2] # 2~8미만에서 step2씩 슬라이싱\n",
    "\n",
    "\n"
   ]
  },
  {
   "cell_type": "markdown",
   "id": "a1e9061d",
   "metadata": {},
   "source": [
    "#### 리스트의 값 변경"
   ]
  },
  {
   "cell_type": "code",
   "execution_count": 27,
   "id": "fbe9fb5b",
   "metadata": {},
   "outputs": [
    {
     "name": "stdout",
     "output_type": "stream",
     "text": [
      "햄버거 짜장면 피자\n"
     ]
    },
    {
     "data": {
      "text/plain": [
       "['짬뽕', '짜장면', '치킨', '탕수육', '볶음밥']"
      ]
     },
     "execution_count": 27,
     "metadata": {},
     "output_type": "execute_result"
    }
   ],
   "source": [
    "# 값을 가져오기\n",
    "foods = [\"햄버거\", \"짜장면\", \"치킨\", \"탕수육\", \"피자\"]\n",
    "a = foods[0]\n",
    "b = foods[1]\n",
    "c = foods[4]\n",
    "\n",
    "print(a, b, c)\n",
    "\n",
    "# 값을 변경하기\n",
    "foods[0] = \"짬뽕\"\n",
    "foods[4] = \"볶음밥\"\n",
    "\n",
    "foods"
   ]
  },
  {
   "cell_type": "code",
   "execution_count": 35,
   "id": "8ef387df",
   "metadata": {},
   "outputs": [
    {
     "name": "stdout",
     "output_type": "stream",
     "text": [
      "짬뽕 ['짜장면', '치킨', '탕수육', '볶음밥']\n",
      "짬뽕 ['짜장면', '치킨'] 탕수육 볶음밥\n"
     ]
    }
   ],
   "source": [
    "type(foods )\n",
    "# 구조분해할당\n",
    "a, b, c, d, e = foods # 좌항의 변수와 리스트 요소의 개수가 일치하면, 한번에 저장\n",
    "\n",
    "x, *y = foods # *y 나머지 전부를 리스트형태로 구조분해할당\n",
    "print(x, y)\n",
    "\n",
    "x, *y, z, k = foods # 중간에 있는 값을 리스트형태로 구조분해할당\n",
    "print(x, y, z, k)\n"
   ]
  },
  {
   "cell_type": "code",
   "execution_count": 47,
   "id": "ed6d33ad",
   "metadata": {},
   "outputs": [
    {
     "name": "stdout",
     "output_type": "stream",
     "text": [
      "['짬뽕', '짜장면', '치킨', '탕수육', '볶음밥']\n",
      "[[1, 2, 3], [4, 5, 6], [7, 8, 9]]\n"
     ]
    },
    {
     "data": {
      "text/plain": [
       "[2, 3]"
      ]
     },
     "execution_count": 47,
     "metadata": {},
     "output_type": "execute_result"
    }
   ],
   "source": [
    "# 2차원 리스트\n",
    "print(foods)\n",
    "\n",
    "foods[1][0] # 짜\n",
    "foods[1][1] # 장\n",
    "foods[1][2] # 면\n",
    "\n",
    "# [\"짜\", \"장\", \"면\"]\n",
    "list1 = [ [1,2,3], [4,5,6], [7,8,9]  ]\n",
    "print(list1)\n",
    "\n",
    "list1[0] # [1,2,3]\n",
    "list1[0][0] \n",
    "list1[0][1 : ] # 인덱싱과 슬라이싱\n",
    "\n"
   ]
  },
  {
   "cell_type": "markdown",
   "id": "9ebe3fe6",
   "metadata": {},
   "source": [
    "#### 리스트 연산"
   ]
  },
  {
   "cell_type": "code",
   "execution_count": 53,
   "id": "7258da77",
   "metadata": {},
   "outputs": [
    {
     "name": "stdout",
     "output_type": "stream",
     "text": [
      "[1, 2, 3, 4, 5, 10, 11]\n",
      "[1, 2, 3, 4, 5, 1, 2, 3, 4, 5, 1, 2, 3, 4, 5]\n"
     ]
    }
   ],
   "source": [
    "list2 = [1,2,3,4,5]\n",
    "list3 = [10, 11]\n",
    "\n",
    "print(list2 + list3) # 끝에 더해서 새로운 리스트를 생성\n",
    "# list2 * list3 # 곱셈은 err\n",
    "print( list2 * 3 ) # 숫자를 이용해서는 곱셈이 가능합니다."
   ]
  },
  {
   "cell_type": "markdown",
   "id": "9db2f39f",
   "metadata": {},
   "source": [
    "#### 실습"
   ]
  },
  {
   "cell_type": "code",
   "execution_count": 67,
   "id": "2a1b1966",
   "metadata": {},
   "outputs": [
    {
     "name": "stdout",
     "output_type": "stream",
     "text": [
      "합계: 460\n",
      "평균: 65.71428571428571\n"
     ]
    }
   ],
   "source": [
    "# 이 리스트의 숫자 값의 합계와 평균을 출력.\n",
    "points = [30, 42, 55, 95, 100, 66, 72] # list(range(1000, 2000, 3) ) \n",
    "\n",
    "sum_ = 0 # 합계\n",
    "\n",
    "for i in points :\n",
    "    sum_ += i\n",
    "\n",
    "print(f'합계: {sum_}')\n",
    "print(f'평균: {sum_ / len(points) }')"
   ]
  },
  {
   "cell_type": "code",
   "execution_count": 56,
   "id": "4cf008ab",
   "metadata": {},
   "outputs": [
    {
     "data": {
      "text/plain": [
       "7"
      ]
     },
     "execution_count": 56,
     "metadata": {},
     "output_type": "execute_result"
    }
   ],
   "source": []
  },
  {
   "cell_type": "code",
   "execution_count": null,
   "id": "4d5d9bae",
   "metadata": {},
   "outputs": [],
   "source": []
  }
 ],
 "metadata": {
  "kernelspec": {
   "display_name": "Python 3 (ipykernel)",
   "language": "python",
   "name": "python3"
  },
  "language_info": {
   "codemirror_mode": {
    "name": "ipython",
    "version": 3
   },
   "file_extension": ".py",
   "mimetype": "text/x-python",
   "name": "python",
   "nbconvert_exporter": "python",
   "pygments_lexer": "ipython3",
   "version": "3.11.5"
  }
 },
 "nbformat": 4,
 "nbformat_minor": 5
}
