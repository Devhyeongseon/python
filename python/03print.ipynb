{
 "cells": [
  {
   "cell_type": "markdown",
   "id": "4912c1e9",
   "metadata": {},
   "source": [
    "#### 출력문"
   ]
  },
  {
   "cell_type": "code",
   "execution_count": 1,
   "id": "ce7b37a0",
   "metadata": {},
   "outputs": [
    {
     "name": "stdout",
     "output_type": "stream",
     "text": [
      "멍멍이고양이내친구1홍길동\n",
      "멍멍이-고양이-내친구-1-홍길동\n",
      "멍멍이 -> 고양이 -> 내친구 -> 1 -> 홍길동\n"
     ]
    }
   ],
   "source": [
    "dog = '멍멍이'\n",
    "cat = '고양이'\n",
    "pig = '내친구'\n",
    "\n",
    "# print함수는 sep이 속성이 있습니다.\n",
    "# sep속성을 아무것도 적지 않으면 \" \" 기본값이 됩니다.\n",
    "\n",
    "print(dog, cat, pig, 1, \"홍길동\", sep=\"\" )\n",
    "print(dog, cat, pig, 1, \"홍길동\", sep=\"-\" )\n",
    "print(dog, cat, pig, 1, \"홍길동\", sep=\" -> \" )\n"
   ]
  },
  {
   "cell_type": "code",
   "execution_count": 14,
   "id": "692e886f",
   "metadata": {},
   "outputs": [
    {
     "name": "stdout",
     "output_type": "stream",
     "text": [
      "멍멍이 고양이 내친구\n",
      "이 줄은 개행이 진행 됬나요?\n"
     ]
    }
   ],
   "source": [
    "# end속성은 출력문 맨 끝에 포함할 문자를 지정하는 용도입니다.\n",
    "# 아무것도 적지 않으면 \\n이 기본값 입니다.\n",
    "print(dog, cat, pig, end=\"\\n\")\n",
    "print(\"이 줄은 개행이 진행 됬나요?\")"
   ]
  },
  {
   "cell_type": "code",
   "execution_count": 22,
   "id": "e2ac5375",
   "metadata": {},
   "outputs": [
    {
     "name": "stdout",
     "output_type": "stream",
     "text": [
      "내친구!!안녕!!잘가내일봐^^\n"
     ]
    }
   ],
   "source": [
    "a = \"내일봐^^\\n\"\n",
    "b = \"!!\"\n",
    "print(pig, \"안녕\", \"잘가\", end=a , sep=b)"
   ]
  },
  {
   "cell_type": "code",
   "execution_count": 21,
   "id": "38dc5635",
   "metadata": {},
   "outputs": [
    {
     "name": "stdout",
     "output_type": "stream",
     "text": [
      "내친구!!안녕!!잘가내일봐^^\n"
     ]
    }
   ],
   "source": [
    "print(pig, \"안녕\", \"잘가\", sep=b, end=a)"
   ]
  },
  {
   "cell_type": "markdown",
   "id": "724a5d3b",
   "metadata": {},
   "source": [
    "#### format함수"
   ]
  },
  {
   "cell_type": "code",
   "execution_count": 25,
   "id": "37cb59f9",
   "metadata": {},
   "outputs": [
    {
     "name": "stdout",
     "output_type": "stream",
     "text": [
      "오늘은 2023년 10월 18일 입니다\n"
     ]
    }
   ],
   "source": [
    "year = 2023\n",
    "month = 10\n",
    "day = 18\n",
    "\n",
    "print(\"오늘은 \", year, \"년 \", month, \"월 \", day, \"일 입니다\", sep = \"\")"
   ]
  },
  {
   "cell_type": "code",
   "execution_count": 29,
   "id": "287b2ac0",
   "metadata": {},
   "outputs": [
    {
     "name": "stdout",
     "output_type": "stream",
     "text": [
      "오늘은 2023년 10월 18일 입니다\n",
      "오늘은 2023년 10월 18일 입니다\n"
     ]
    }
   ],
   "source": [
    "print( \"오늘은 {}년 {}월 {}일 입니다\".format(year, month, day)   )\n",
    "# {순서} 순서는 0부터 시작을 합니다\n",
    "print( \"오늘은 {1}년 {2}월 {0}일 입니다\".format(day, year, month)   ) \n"
   ]
  },
  {
   "cell_type": "markdown",
   "id": "64f2f5a9",
   "metadata": {},
   "source": [
    "#### f-string 출력"
   ]
  },
  {
   "cell_type": "code",
   "execution_count": 39,
   "id": "c936c539",
   "metadata": {},
   "outputs": [
    {
     "name": "stdout",
     "output_type": "stream",
     "text": [
      "안녕은 영어로 hello\n",
      "안녕은 영어로 hello, 원주율은 3.14, 진실은 영어로 True\n"
     ]
    }
   ],
   "source": [
    "a1 = 'hello'\n",
    "a2 = 3.14\n",
    "a3 = True\n",
    "\n",
    "print( f'안녕은 영어로 {a1}' )\n",
    "print( f'안녕은 영어로 {a1}, 원주율은 {a2}, 진실은 영어로 {a3}')\n"
   ]
  },
  {
   "cell_type": "code",
   "execution_count": null,
   "id": "e00ee823",
   "metadata": {},
   "outputs": [],
   "source": []
  }
 ],
 "metadata": {
  "kernelspec": {
   "display_name": "Python 3 (ipykernel)",
   "language": "python",
   "name": "python3"
  },
  "language_info": {
   "codemirror_mode": {
    "name": "ipython",
    "version": 3
   },
   "file_extension": ".py",
   "mimetype": "text/x-python",
   "name": "python",
   "nbconvert_exporter": "python",
   "pygments_lexer": "ipython3",
   "version": "3.11.5"
  }
 },
 "nbformat": 4,
 "nbformat_minor": 5
}
