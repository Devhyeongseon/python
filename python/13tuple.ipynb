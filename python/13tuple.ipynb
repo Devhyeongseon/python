{
 "cells": [
  {
   "cell_type": "markdown",
   "id": "1788b9ac",
   "metadata": {},
   "source": [
    "#### tuple\n",
    "\n",
    "1. 튜플은 리스트와 거의 유사합니다. 하지만, 값을 한번 저장한 후에는 값의 변경이 불가능\n",
    "\n"
   ]
  },
  {
   "cell_type": "code",
   "execution_count": 3,
   "id": "42bd70fc",
   "metadata": {},
   "outputs": [
    {
     "name": "stdout",
     "output_type": "stream",
     "text": [
      "87\n",
      "23\n",
      "43\n",
      "55\n",
      "30\n"
     ]
    },
    {
     "data": {
      "text/plain": [
       "tuple"
      ]
     },
     "execution_count": 3,
     "metadata": {},
     "output_type": "execute_result"
    }
   ],
   "source": [
    "# 튜플의 생성\n",
    "points = (87, 23, 43, 55, 30)\n",
    "\n",
    "\n",
    "for i in points :\n",
    "    print(i)\n",
    "\n",
    "    \n",
    "type(points) # 튜플"
   ]
  },
  {
   "cell_type": "code",
   "execution_count": 8,
   "id": "4dfdf579",
   "metadata": {},
   "outputs": [
    {
     "data": {
      "text/plain": [
       "(1, 2, 3, 4, 5, 6, 7, 8, 9)"
      ]
     },
     "execution_count": 8,
     "metadata": {},
     "output_type": "execute_result"
    }
   ],
   "source": [
    "# 튜플은 소괄호 생략이 가능함\n",
    "tu = 1,2,3,4,5,6,7,8,9\n",
    "tu\n",
    "\n",
    "# 튜플은 리스트와 마찬가지로 인덱싱, 슬라이싱 가능함\n",
    "tu[0] # 인덱싱\n",
    "tu[1] # 인덱싱\n",
    "tu[0 : 3] # 슬라이싱\n",
    "tu[ : ] #슬라이싱"
   ]
  },
  {
   "cell_type": "code",
   "execution_count": 15,
   "id": "7c5aed2b",
   "metadata": {},
   "outputs": [
    {
     "data": {
      "text/plain": [
       "1"
      ]
     },
     "execution_count": 15,
     "metadata": {},
     "output_type": "execute_result"
    }
   ],
   "source": [
    "# 튜플은 값의 변경이 불가능합니다\n",
    "\n",
    "# tu[0] = 123 #  값의 변경이 안됩니다.\n",
    "# tu.append(100) # err\n",
    "# tu.insert(3, 100) #err\n",
    "\n",
    "\n",
    "# 튜플이 지원하는 함수는 index, count 뿐입니다\n",
    "tu.index(3) # 2번째 인덱스에 있음\n",
    "tu.count(3) # 3이 몇개 있나"
   ]
  },
  {
   "cell_type": "markdown",
   "id": "97c7b5c8",
   "metadata": {},
   "source": [
    "#### 리스트와 튜플의 상호형변환\n"
   ]
  },
  {
   "cell_type": "code",
   "execution_count": 19,
   "id": "5ee77ffe",
   "metadata": {},
   "outputs": [
    {
     "name": "stdout",
     "output_type": "stream",
     "text": [
      "[1, 2, 3, 4, 5]\n",
      "(1, 2, 3, 4, 5)\n"
     ]
    }
   ],
   "source": [
    "a = [1,2,3,4,5]\n",
    "\n",
    "print(a )\n",
    "\n",
    "# 리스트를 => 튜플로\n",
    "b = tuple(a)\n",
    "\n",
    "print(b )\n"
   ]
  },
  {
   "cell_type": "code",
   "execution_count": 21,
   "id": "3e120ddc",
   "metadata": {},
   "outputs": [
    {
     "name": "stdout",
     "output_type": "stream",
     "text": [
      "[1, 2, 3, 4, 5]\n"
     ]
    }
   ],
   "source": [
    "# 튜플 => 리스트\n",
    "c = list( b ) \n",
    "\n",
    "print(c)"
   ]
  },
  {
   "cell_type": "code",
   "execution_count": null,
   "id": "8ad71b97",
   "metadata": {},
   "outputs": [],
   "source": []
  },
  {
   "cell_type": "code",
   "execution_count": null,
   "id": "793d02a5",
   "metadata": {},
   "outputs": [],
   "source": []
  }
 ],
 "metadata": {
  "kernelspec": {
   "display_name": "Python 3 (ipykernel)",
   "language": "python",
   "name": "python3"
  },
  "language_info": {
   "codemirror_mode": {
    "name": "ipython",
    "version": 3
   },
   "file_extension": ".py",
   "mimetype": "text/x-python",
   "name": "python",
   "nbconvert_exporter": "python",
   "pygments_lexer": "ipython3",
   "version": "3.11.5"
  }
 },
 "nbformat": 4,
 "nbformat_minor": 5
}
