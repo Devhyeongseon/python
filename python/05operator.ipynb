{
 "cells": [
  {
   "cell_type": "markdown",
   "id": "9afcea50",
   "metadata": {},
   "source": [
    "#### 연산자"
   ]
  },
  {
   "cell_type": "code",
   "execution_count": 7,
   "id": "239ebf7c",
   "metadata": {},
   "outputs": [
    {
     "name": "stdout",
     "output_type": "stream",
     "text": [
      "7\n",
      "-1\n",
      "2.0\n",
      "2\n",
      "1\n",
      "8\n"
     ]
    }
   ],
   "source": [
    "print(3 + 4)\n",
    "print(3 - 4)\n",
    "print(10 / 5) # 실수형 몫\n",
    "print(10 // 5) # 정수형 몫\n",
    "print(10 % 3) # 나머지\n",
    "print(2 ** 3) # 파이썬 제공 - 제곱"
   ]
  },
  {
   "cell_type": "markdown",
   "id": "05e54400",
   "metadata": {},
   "source": [
    "#### 대입연산자\n",
    "#### +=, -=, *=, /=, //=, %=, **="
   ]
  },
  {
   "cell_type": "code",
   "execution_count": 17,
   "id": "d36d9880",
   "metadata": {},
   "outputs": [
    {
     "name": "stdout",
     "output_type": "stream",
     "text": [
      "8\n",
      "5\n",
      "1\n",
      "10\n",
      "1\n"
     ]
    }
   ],
   "source": [
    "a = 5\n",
    "b = 5\n",
    "\n",
    "a += 3 # a = a + 3\n",
    "print(a)\n",
    "\n",
    "a -= 3\n",
    "print(a)\n",
    "\n",
    "a //= 3\n",
    "print(a)\n",
    "\n",
    "a *= 10\n",
    "print(a)\n",
    "\n",
    "a %= 3\n",
    "print(a)"
   ]
  },
  {
   "cell_type": "code",
   "execution_count": 18,
   "id": "de9240b0",
   "metadata": {},
   "outputs": [
    {
     "data": {
      "text/plain": [
       "0"
      ]
     },
     "execution_count": 18,
     "metadata": {},
     "output_type": "execute_result"
    }
   ],
   "source": [
    "x = 10\n",
    "\n",
    "x -= 3 # 7\n",
    "x *= 7 # 49\n",
    "x //= 2 # 24\n",
    "x %= 3 # 0\n",
    "x"
   ]
  },
  {
   "cell_type": "code",
   "execution_count": 23,
   "id": "0f37cf8e",
   "metadata": {},
   "outputs": [
    {
     "data": {
      "text/plain": [
       "10"
      ]
     },
     "execution_count": 23,
     "metadata": {},
     "output_type": "execute_result"
    }
   ],
   "source": [
    "# 대입연산자는 연산자 순서에 주의해야 합니다.\n",
    "a = 1\n",
    "a =+ 10 # a =  +10 \n",
    "a"
   ]
  },
  {
   "cell_type": "markdown",
   "id": "785787af",
   "metadata": {},
   "source": [
    "#### 비교연산자\n",
    "< > <= >= != =="
   ]
  },
  {
   "cell_type": "code",
   "execution_count": 32,
   "id": "c35ced15",
   "metadata": {},
   "outputs": [
    {
     "data": {
      "text/plain": [
       "False"
      ]
     },
     "execution_count": 32,
     "metadata": {},
     "output_type": "execute_result"
    }
   ],
   "source": [
    "a = 10\n",
    "b = 5\n",
    "\n",
    "a >= 5\n",
    "a > b\n",
    "a <= 5\n",
    "a < b\n",
    "a == b # F\n",
    "a != b # T\n",
    "\n",
    "a % b == 0 # T\n",
    "a % b > 1 # F\n",
    "\n",
    "a % 2 == 0 # a는 무슨 값? => 짝수\n",
    "a % 2 != 0 # a는 무슨 값? => 홀수\n"
   ]
  },
  {
   "cell_type": "markdown",
   "id": "84136f86",
   "metadata": {},
   "source": [
    "#### 논리연산자\n",
    "& and  \n",
    "| or  \n",
    "not  \n",
    "- and는 좌항, 우항 값이 모두 True일 때 최종적으로 True반환\n",
    "- or는 좌항, 우항 중 하나만 True여도 최종적으로 True반환"
   ]
  },
  {
   "cell_type": "code",
   "execution_count": 42,
   "id": "bee12f35",
   "metadata": {},
   "outputs": [
    {
     "data": {
      "text/plain": [
       "False"
      ]
     },
     "execution_count": 42,
     "metadata": {},
     "output_type": "execute_result"
    }
   ],
   "source": [
    "a = 10\n",
    "b = 5\n",
    "\n",
    "(a >= 10) & (b == 5) # 연산자 우선순위\n",
    "(a >= 10) & (b == 10) # F\n",
    "\n",
    "(a >= 10) | (b == 10) # T\n",
    "(a != 10) | (b == 10) # F\n"
   ]
  },
  {
   "cell_type": "code",
   "execution_count": 49,
   "id": "d6d35b7c",
   "metadata": {},
   "outputs": [
    {
     "name": "stdout",
     "output_type": "stream",
     "text": [
      "참입니다\n",
      "트루\n"
     ]
    }
   ],
   "source": [
    "a = 5\n",
    "# if 문장뒤에 참이 오면 if문을 실행하고, 거짓이 오면 else문장을 실행\n",
    "if a >= 5 and a <= 10 :\n",
    "    print('참입니다')\n",
    "else :\n",
    "    print('거짓입니다')\n",
    "    \n",
    "\n",
    "b = 5\n",
    "if b == 2 or b == 5 :\n",
    "    print('트루')\n",
    "    \n"
   ]
  },
  {
   "cell_type": "code",
   "execution_count": 55,
   "id": "6ac011a4",
   "metadata": {},
   "outputs": [
    {
     "name": "stdout",
     "output_type": "stream",
     "text": [
      "통과?\n",
      "프로그램 종료\n"
     ]
    }
   ],
   "source": [
    "# 단축평가 연산 and \n",
    "# 논리 연산 수행시에 좌항 결과가 전체결과로 이미 판명이 나는 경우에 우측을 실행하지 않음\n",
    "c = 0\n",
    "\n",
    "# 10 / c == 0 # 이 코드가 실행되면 에러\n",
    "\n",
    "if c == 0 or 10 / c == 0 :\n",
    "    print('통과?')\n",
    "\n",
    "if c != 0 and 10 / c == 0 :\n",
    "    print('통과?')\n",
    "\n",
    "print('프로그램 종료')"
   ]
  },
  {
   "cell_type": "code",
   "execution_count": 62,
   "id": "1ec9e16f",
   "metadata": {},
   "outputs": [
    {
     "name": "stdout",
     "output_type": "stream",
     "text": [
      "사과는 10 개 있습니다\n"
     ]
    }
   ],
   "source": [
    "# not 은 !와 같은 부정의 의미\n",
    "not True\n",
    "not False\n",
    "\n",
    "apple = 10\n",
    "\n",
    "if not apple < 0 :\n",
    "    print('사과는', apple,'개 있습니다')\n"
   ]
  },
  {
   "cell_type": "markdown",
   "id": "75bad4b7",
   "metadata": {},
   "source": [
    "#### 실습\n",
    "- 사과의 개수를 입력받아서 0~10 사이일때만 사과의 개수를 출력하세요"
   ]
  },
  {
   "cell_type": "code",
   "execution_count": 12,
   "id": "279ccea2",
   "metadata": {},
   "outputs": [
    {
     "name": "stdout",
     "output_type": "stream",
     "text": [
      "개수를 입력>3\n",
      "사과의 개수 3개 입니다\n"
     ]
    }
   ],
   "source": [
    "apple = int( input('개수를 입력>') )\n",
    "\n",
    "if apple >= 0 and apple <= 10 :\n",
    "    print(f'사과의 개수 {apple}개 입니다')\n"
   ]
  }
 ],
 "metadata": {
  "kernelspec": {
   "display_name": "Python 3 (ipykernel)",
   "language": "python",
   "name": "python3"
  },
  "language_info": {
   "codemirror_mode": {
    "name": "ipython",
    "version": 3
   },
   "file_extension": ".py",
   "mimetype": "text/x-python",
   "name": "python",
   "nbconvert_exporter": "python",
   "pygments_lexer": "ipython3",
   "version": "3.11.5"
  }
 },
 "nbformat": 4,
 "nbformat_minor": 5
}
